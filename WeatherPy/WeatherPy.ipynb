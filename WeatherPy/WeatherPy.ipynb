{
 "cells": [
  {
   "cell_type": "markdown",
   "metadata": {},
   "source": [
    "# WeatherPy\n",
    "----\n",
    "\n",
    "#### Note\n",
    "* Instructions have been included for each segment. You do not have to follow them exactly, but they are included to help you think through the steps."
   ]
  },
  {
   "cell_type": "code",
   "execution_count": 244,
   "metadata": {
    "scrolled": true
   },
   "outputs": [],
   "source": [
    "# Dependencies and Setup\n",
    "import matplotlib.pyplot as plt\n",
    "import pandas as pd\n",
    "import numpy as np\n",
    "import requests\n",
    "import time\n",
    "from scipy.stats import linregress\n",
    "import os\n",
    "import csv\n",
    "from datetime import datetime #for converting Unix UTC datetime to human-readable date\n",
    "\n",
    "# Import API key\n",
    "from api_keys import weather_api_key\n",
    "\n",
    "# Incorporated citipy to determine city based on latitude and longitude\n",
    "from citipy import citipy\n",
    "\n",
    "# Output File (CSV)\n",
    "output_data_file = \"output_data/cities.csv\"\n",
    "\n",
    "# Range of latitudes and longitudes\n",
    "lat_range = (-90, 90)\n",
    "lng_range = (-180, 180)"
   ]
  },
  {
   "cell_type": "markdown",
   "metadata": {},
   "source": [
    "## Generate Cities List"
   ]
  },
  {
   "cell_type": "code",
   "execution_count": 245,
   "metadata": {},
   "outputs": [
    {
     "data": {
      "text/plain": [
       "603"
      ]
     },
     "execution_count": 245,
     "metadata": {},
     "output_type": "execute_result"
    }
   ],
   "source": [
    "# List for holding lat_lngs and cities\n",
    "lat_lngs = []\n",
    "cities = []\n",
    "\n",
    "# Create a set of random lat and lng combinations\n",
    "lats = np.random.uniform(lat_range[0], lat_range[1], size=1500)\n",
    "lngs = np.random.uniform(lng_range[0], lng_range[1], size=1500)\n",
    "lat_lngs = zip(lats, lngs)\n",
    "\n",
    "# Identify nearest city for each lat, lng combination\n",
    "for lat_lng in lat_lngs:\n",
    "    city = citipy.nearest_city(lat_lng[0], lat_lng[1]).city_name\n",
    "    \n",
    "    # If the city is unique, then add it to a our cities list\n",
    "    if city not in cities:\n",
    "        cities.append(city)\n",
    "\n",
    "# Print the city count to confirm sufficient count\n",
    "len(cities)"
   ]
  },
  {
   "cell_type": "markdown",
   "metadata": {},
   "source": [
    "### Perform API Calls\n",
    "* Perform a weather check on each city using a series of successive API calls.\n",
    "* Include a print log of each city as it's being processed (with the city number and city name).\n"
   ]
  },
  {
   "cell_type": "code",
   "execution_count": 246,
   "metadata": {
    "scrolled": true
   },
   "outputs": [
    {
     "name": "stdout",
     "output_type": "stream",
     "text": [
      "Beginning Data Retrieval\n",
      "-----------------------------\n",
      "Starting batch 1 of 13.\n",
      "Request 1 of batch 1. City number: 1 City name: Macaé.\n",
      "Request 2 of batch 1. City number: 2 City name: Ushuaia.\n",
      "Request 3 of batch 1. City number: 3 City name: Rikitea.\n",
      "Request 4 of batch 1. City number: 4 City name: Mar del Plata.\n",
      "Request 5 of batch 1. City number: 5 City name: Fortuna.\n",
      "Request 6 of batch 1. City number: 6 City name: Port Elizabeth.\n",
      "Request 7 of batch 1. City number: 7 City name: Longyearbyen.\n",
      "Request 8 of batch 1. City number: 8 City name: Hermanus.\n",
      "Request 9 of batch 1. City number: 9 City name: Leningradskiy.\n",
      "Request 10 of batch 1. City number: 10 City name: La Ronge.\n",
      "Request 11 of batch 1. City number: 11 City name: Puerto Madryn.\n",
      "Request 12 of batch 1. City number: 12 City name: Bluff.\n",
      "Request 13 of batch 1. City number: 13 City name: Vaini.\n",
      "Request 14 of batch 1. City number: 14 City name: Hasaki.\n",
      "Request 15 of batch 1. City number: 15 City name: Necochea.\n",
      "Request 16 of batch 1. City number: 16 City name: Tasiilaq.\n",
      "Request 17 of batch 1. City number: 17 City name: Kenai.\n",
      "Request 18 of batch 1. City number: 18 City name: Busselton.\n",
      "City not found. Skipping...\n",
      "Request 20 of batch 1. City number: 20 City name: Piaçabuçu.\n",
      "Request 21 of batch 1. City number: 21 City name: Avarua.\n",
      "Request 22 of batch 1. City number: 22 City name: Fort Dodge.\n",
      "Request 23 of batch 1. City number: 23 City name: Saint-Philippe.\n",
      "Request 24 of batch 1. City number: 24 City name: Hobart.\n",
      "Request 25 of batch 1. City number: 25 City name: Provideniya.\n",
      "Request 26 of batch 1. City number: 26 City name: Butaritari.\n",
      "Request 27 of batch 1. City number: 27 City name: Kapaa.\n",
      "Request 28 of batch 1. City number: 28 City name: Punta Arenas.\n",
      "Request 29 of batch 1. City number: 29 City name: Hithadhoo.\n",
      "Request 30 of batch 1. City number: 30 City name: George Town.\n",
      "Request 31 of batch 1. City number: 31 City name: Nuuk.\n",
      "Request 32 of batch 1. City number: 32 City name: Mataura.\n",
      "Request 33 of batch 1. City number: 33 City name: Tura.\n",
      "City not found. Skipping...\n",
      "Request 35 of batch 1. City number: 35 City name: Tornio.\n",
      "Request 36 of batch 1. City number: 36 City name: Payakumbuh.\n",
      "Request 37 of batch 1. City number: 37 City name: Kamina.\n",
      "City not found. Skipping...\n",
      "Request 39 of batch 1. City number: 39 City name: Airai.\n",
      "Request 40 of batch 1. City number: 40 City name: Plettenberg Bay.\n",
      "Request 41 of batch 1. City number: 41 City name: Torbay.\n",
      "Request 42 of batch 1. City number: 42 City name: Bredasdorp.\n",
      "Request 43 of batch 1. City number: 43 City name: Cabo San Lucas.\n",
      "Request 44 of batch 1. City number: 44 City name: Puerto Ayora.\n",
      "Request 45 of batch 1. City number: 45 City name: Kaitangata.\n",
      "Request 46 of batch 1. City number: 46 City name: Albany.\n",
      "Request 47 of batch 1. City number: 47 City name: Kiunga.\n",
      "Request 48 of batch 1. City number: 48 City name: Kapuskasing.\n",
      "Request 49 of batch 1. City number: 49 City name: Yeppoon.\n",
      "Request 50 of batch 1. City number: 50 City name: Grafton.\n",
      "-----------------------------\n",
      "Data Retrieval Complete\n",
      "----------------------------\n"
     ]
    }
   ],
   "source": [
    "api = weather_api_key\n",
    "# Build query URL\n",
    "url = \"http://api.openweathermap.org/data/2.5/weather?\"\n",
    "\n",
    "def APIRequest(cityNumber):#function for making the API call to OpenWeatherMap.org and returning the data\n",
    "    query_url = url + \"appid=\" + api + \"&q=\" + cities[cityNumber-1] + \"&units=imperial\"\n",
    "    responseJson = requests.get(query_url).json() #making the API request and grabbing the JSON from the response\n",
    "\n",
    "    if (\"'message': 'city not found'\" in str(responseJson)): #checking response JSON for the string of text containing the message 'city not found'\n",
    "        full_City_Data.append(\"NaN\")#if the city is not found, append a NaN value (makes dropping items with pandas easier later) to the lists to keep the index numbers correct\n",
    "        city_City_Data.append(\"NaN\")#list for city names\n",
    "        lat_City_Data.append(\"NaN\")#list for city latitude\n",
    "        lng_City_Data.append(\"NaN\")#list for city longitude\n",
    "        max_Temp_City_Data.append(\"NaN\")#list for city maximum temperature\n",
    "        humidity_City_Data.append(\"NaN\")#list for city humidity\n",
    "        cloudiness_City_Data.append(\"NaN\")#list for city cloudiness amount\n",
    "        wind_Speed_City_Data.append(\"NaN\")#list for city wind speed amount\n",
    "        country_City_Data.append(\"NaN\")#list for which country a city is in\n",
    "        date_City_Data.append(\"NaN\")#list for the datetime information stored in unix UTC format\n",
    "        print(\"City not found. Skipping...\")\n",
    "    else:\n",
    "        full_City_Data.append(responseJson) #if the city is found, do append the information to the lists\n",
    "        city_City_Data.append(responseJson[\"name\"])\n",
    "        lat_City_Data.append(responseJson[\"coord\"][\"lat\"])\n",
    "        lng_City_Data.append(responseJson[\"coord\"][\"lat\"])\n",
    "        max_Temp_City_Data.append(responseJson[\"main\"][\"temp_max\"])\n",
    "        humidity_City_Data.append(responseJson[\"main\"][\"humidity\"])\n",
    "        cloudiness_City_Data.append(responseJson[\"clouds\"][\"all\"])\n",
    "        wind_Speed_City_Data.append(responseJson[\"wind\"][\"speed\"])\n",
    "        country_City_Data.append(responseJson[\"sys\"][\"country\"])\n",
    "        date_City_Data.append(responseJson[\"dt\"])\n",
    "        #convert the datetime in unix UTC format to human-readable format. I only need one not null value from this list; all API calls are made on the same date\n",
    "        converted_Date.append(datetime.utcfromtimestamp(responseJson[\"dt\"]).strftime('%m-%d-%Y')) #only in the else block to prevent null values\n",
    "\n",
    "#if length of cities is exactly divisible by 50 then get the length. else we need to add an extra batch to account for the remainder\n",
    "remainder = 0\n",
    "if (len(cities) % 50 == 0):\n",
    "        totalBatches = int(len(cities) / 50) #doing batches of 50 API calls at once; finding the total number of batches I will be making\n",
    "else:\n",
    "    totalBatches = int((len(cities) / 50)+1)\n",
    "    remainder = int(len(cities) % 50)\n",
    "    \n",
    "batchCounter = 1\n",
    "requestsPerBatch = 50\n",
    "requestCounter = 1\n",
    "cityNumber = 1\n",
    "#creating empty lists to use to append each piece of the weather data response to\n",
    "full_City_Data, city_City_Data, lat_City_Data, lng_City_Data, max_Temp_City_Data, humidity_City_Data, cloudiness_City_Data, wind_Speed_City_Data, country_City_Data, date_City_Data, converted_Date = [], [], [], [], [], [], [], [], [], [], []\n",
    "\n",
    "print(\"Beginning Data Retrieval\\n-----------------------------\")\n",
    "while (batchCounter <= totalBatches): \n",
    "    print(f\"Starting batch {batchCounter} of {totalBatches}.\")\n",
    "    while ((batchCounter != totalBatches) & (requestCounter <= requestsPerBatch)): #if we're not on the final batch, run this code\n",
    "        cityNumber = (50 * (batchCounter-1)) + requestCounter #calculating city number        \n",
    "        APIRequest(cityNumber)\n",
    "        if (city_City_Data[cityNumber-1] != \"NaN\"):#if any of lists at this element are blank, skip printing the name and move onto the next city\n",
    "            print(f\"Request {requestCounter} of batch {batchCounter}. City number: {cityNumber} City name: {city_City_Data[cityNumber-1]}.\")\n",
    "        requestCounter +=1\n",
    "    while ((batchCounter == totalBatches) & (requestCounter <= remainder)): #if we are on the final batch, run this code\n",
    "        cityNumber = (50 * (batchCounter-1)) + requestCounter #calculating city number\n",
    "        APIRequest(cityNumber)\n",
    "        if (city_City_Data[cityNumber-1] != \"NaN\"):#if any of lists at this element are blank, skip printing the name and move onto the next city\n",
    "            print(f\"Request {requestCounter} of batch {batchCounter}. City number: {cityNumber} City name: {city_City_Data[cityNumber-1]}.\")\n",
    "        requestCounter +=1        \n",
    "    batchCounter +=1\n",
    "    requestCounter = 1 #resetting requestCounter so it will hit the inner while loop again in the next iteration of the outer while loop\n",
    "    \n",
    "    break ##break out of out while loop so i don't make so many API calls during testing##\n",
    "print(\"-----------------------------\\nData Retrieval Complete\\n----------------------------\") "
   ]
  },
  {
   "cell_type": "markdown",
   "metadata": {},
   "source": [
    "### Convert Raw Data to DataFrame\n",
    "* Export the city data into a .csv.\n",
    "* Display the DataFrame"
   ]
  },
  {
   "cell_type": "code",
   "execution_count": 247,
   "metadata": {},
   "outputs": [
    {
     "data": {
      "text/html": [
       "<div>\n",
       "<style scoped>\n",
       "    .dataframe tbody tr th:only-of-type {\n",
       "        vertical-align: middle;\n",
       "    }\n",
       "\n",
       "    .dataframe tbody tr th {\n",
       "        vertical-align: top;\n",
       "    }\n",
       "\n",
       "    .dataframe thead th {\n",
       "        text-align: right;\n",
       "    }\n",
       "</style>\n",
       "<table border=\"1\" class=\"dataframe\">\n",
       "  <thead>\n",
       "    <tr style=\"text-align: right;\">\n",
       "      <th></th>\n",
       "      <th>City</th>\n",
       "      <th>Lat</th>\n",
       "      <th>Lng</th>\n",
       "      <th>Max Temp</th>\n",
       "      <th>Humidity</th>\n",
       "      <th>Cloudiness</th>\n",
       "      <th>Wind Speed</th>\n",
       "      <th>Country</th>\n",
       "      <th>Date</th>\n",
       "    </tr>\n",
       "  </thead>\n",
       "  <tbody>\n",
       "    <tr>\n",
       "      <th>0</th>\n",
       "      <td>Macaé</td>\n",
       "      <td>-22.37</td>\n",
       "      <td>-22.37</td>\n",
       "      <td>89.6</td>\n",
       "      <td>55</td>\n",
       "      <td>0</td>\n",
       "      <td>11.41</td>\n",
       "      <td>BR</td>\n",
       "      <td>1607981052</td>\n",
       "    </tr>\n",
       "    <tr>\n",
       "      <th>1</th>\n",
       "      <td>Ushuaia</td>\n",
       "      <td>-54.8</td>\n",
       "      <td>-54.8</td>\n",
       "      <td>41</td>\n",
       "      <td>86</td>\n",
       "      <td>75</td>\n",
       "      <td>33.33</td>\n",
       "      <td>AR</td>\n",
       "      <td>1607980863</td>\n",
       "    </tr>\n",
       "    <tr>\n",
       "      <th>2</th>\n",
       "      <td>Rikitea</td>\n",
       "      <td>-23.12</td>\n",
       "      <td>-23.12</td>\n",
       "      <td>75.7</td>\n",
       "      <td>74</td>\n",
       "      <td>54</td>\n",
       "      <td>7.58</td>\n",
       "      <td>PF</td>\n",
       "      <td>1607980865</td>\n",
       "    </tr>\n",
       "    <tr>\n",
       "      <th>3</th>\n",
       "      <td>Mar del Plata</td>\n",
       "      <td>-38</td>\n",
       "      <td>-38</td>\n",
       "      <td>82.4</td>\n",
       "      <td>20</td>\n",
       "      <td>0</td>\n",
       "      <td>27.51</td>\n",
       "      <td>AR</td>\n",
       "      <td>1607980821</td>\n",
       "    </tr>\n",
       "    <tr>\n",
       "      <th>4</th>\n",
       "      <td>Fortuna</td>\n",
       "      <td>40.6</td>\n",
       "      <td>40.6</td>\n",
       "      <td>54</td>\n",
       "      <td>76</td>\n",
       "      <td>41</td>\n",
       "      <td>3</td>\n",
       "      <td>US</td>\n",
       "      <td>1607981299</td>\n",
       "    </tr>\n",
       "  </tbody>\n",
       "</table>\n",
       "</div>"
      ],
      "text/plain": [
       "            City    Lat    Lng Max Temp Humidity Cloudiness Wind Speed  \\\n",
       "0          Macaé -22.37 -22.37     89.6       55          0      11.41   \n",
       "1        Ushuaia  -54.8  -54.8       41       86         75      33.33   \n",
       "2        Rikitea -23.12 -23.12     75.7       74         54       7.58   \n",
       "3  Mar del Plata    -38    -38     82.4       20          0      27.51   \n",
       "4        Fortuna   40.6   40.6       54       76         41          3   \n",
       "\n",
       "  Country        Date  \n",
       "0      BR  1607981052  \n",
       "1      AR  1607980863  \n",
       "2      PF  1607980865  \n",
       "3      AR  1607980821  \n",
       "4      US  1607981299  "
      ]
     },
     "execution_count": 247,
     "metadata": {},
     "output_type": "execute_result"
    }
   ],
   "source": [
    "#use each individual list as a column in the data frame\n",
    "weather_df = pd.DataFrame(data={\"City\": city_City_Data, \"Lat\": lat_City_Data, \"Lng\": lng_City_Data, \"Max Temp\": max_Temp_City_Data, \"Humidity\": humidity_City_Data, \"Cloudiness\": cloudiness_City_Data, \"Wind Speed\": wind_Speed_City_Data, \"Country\": country_City_Data, \"Date\": date_City_Data})\n",
    "\n",
    "output_path = os.path.join(\"Output\", \"output.csv\")\n",
    "weather_df.to_csv(output_path, sep=',',index=False)#write the data frame to a CSV\n",
    "\n",
    "weather_df.head()"
   ]
  },
  {
   "cell_type": "code",
   "execution_count": 248,
   "metadata": {},
   "outputs": [
    {
     "data": {
      "text/html": [
       "<div>\n",
       "<style scoped>\n",
       "    .dataframe tbody tr th:only-of-type {\n",
       "        vertical-align: middle;\n",
       "    }\n",
       "\n",
       "    .dataframe tbody tr th {\n",
       "        vertical-align: top;\n",
       "    }\n",
       "\n",
       "    .dataframe thead th {\n",
       "        text-align: right;\n",
       "    }\n",
       "</style>\n",
       "<table border=\"1\" class=\"dataframe\">\n",
       "  <thead>\n",
       "    <tr style=\"text-align: right;\">\n",
       "      <th></th>\n",
       "      <th>Lat</th>\n",
       "      <th>Lng</th>\n",
       "      <th>Max Temp</th>\n",
       "      <th>Humidity</th>\n",
       "      <th>Cloudiness</th>\n",
       "      <th>Wind Speed</th>\n",
       "      <th>Date</th>\n",
       "    </tr>\n",
       "  </thead>\n",
       "  <tbody>\n",
       "    <tr>\n",
       "      <th>count</th>\n",
       "      <td>47.000000</td>\n",
       "      <td>47.000000</td>\n",
       "      <td>47.000000</td>\n",
       "      <td>47.000000</td>\n",
       "      <td>47.000000</td>\n",
       "      <td>47.000000</td>\n",
       "      <td>4.700000e+01</td>\n",
       "    </tr>\n",
       "    <tr>\n",
       "      <th>mean</th>\n",
       "      <td>3.298511</td>\n",
       "      <td>3.298511</td>\n",
       "      <td>55.389362</td>\n",
       "      <td>75.255319</td>\n",
       "      <td>55.489362</td>\n",
       "      <td>10.294255</td>\n",
       "      <td>1.607981e+09</td>\n",
       "    </tr>\n",
       "    <tr>\n",
       "      <th>std</th>\n",
       "      <td>40.831640</td>\n",
       "      <td>40.831640</td>\n",
       "      <td>24.878242</td>\n",
       "      <td>15.566782</td>\n",
       "      <td>38.078222</td>\n",
       "      <td>7.931274</td>\n",
       "      <td>1.784769e+02</td>\n",
       "    </tr>\n",
       "    <tr>\n",
       "      <th>min</th>\n",
       "      <td>-54.800000</td>\n",
       "      <td>-54.800000</td>\n",
       "      <td>-2.200000</td>\n",
       "      <td>20.000000</td>\n",
       "      <td>0.000000</td>\n",
       "      <td>0.540000</td>\n",
       "      <td>1.607981e+09</td>\n",
       "    </tr>\n",
       "    <tr>\n",
       "      <th>25%</th>\n",
       "      <td>-33.985000</td>\n",
       "      <td>-33.985000</td>\n",
       "      <td>34.505000</td>\n",
       "      <td>70.500000</td>\n",
       "      <td>15.000000</td>\n",
       "      <td>3.575000</td>\n",
       "      <td>1.607981e+09</td>\n",
       "    </tr>\n",
       "    <tr>\n",
       "      <th>50%</th>\n",
       "      <td>-6.120000</td>\n",
       "      <td>-6.120000</td>\n",
       "      <td>61.360000</td>\n",
       "      <td>77.000000</td>\n",
       "      <td>75.000000</td>\n",
       "      <td>9.170000</td>\n",
       "      <td>1.607981e+09</td>\n",
       "    </tr>\n",
       "    <tr>\n",
       "      <th>75%</th>\n",
       "      <td>42.355000</td>\n",
       "      <td>42.355000</td>\n",
       "      <td>77.000000</td>\n",
       "      <td>86.000000</td>\n",
       "      <td>90.000000</td>\n",
       "      <td>14.195000</td>\n",
       "      <td>1.607981e+09</td>\n",
       "    </tr>\n",
       "    <tr>\n",
       "      <th>max</th>\n",
       "      <td>78.220000</td>\n",
       "      <td>78.220000</td>\n",
       "      <td>89.600000</td>\n",
       "      <td>100.000000</td>\n",
       "      <td>100.000000</td>\n",
       "      <td>33.330000</td>\n",
       "      <td>1.607981e+09</td>\n",
       "    </tr>\n",
       "  </tbody>\n",
       "</table>\n",
       "</div>"
      ],
      "text/plain": [
       "             Lat        Lng   Max Temp    Humidity  Cloudiness  Wind Speed  \\\n",
       "count  47.000000  47.000000  47.000000   47.000000   47.000000   47.000000   \n",
       "mean    3.298511   3.298511  55.389362   75.255319   55.489362   10.294255   \n",
       "std    40.831640  40.831640  24.878242   15.566782   38.078222    7.931274   \n",
       "min   -54.800000 -54.800000  -2.200000   20.000000    0.000000    0.540000   \n",
       "25%   -33.985000 -33.985000  34.505000   70.500000   15.000000    3.575000   \n",
       "50%    -6.120000  -6.120000  61.360000   77.000000   75.000000    9.170000   \n",
       "75%    42.355000  42.355000  77.000000   86.000000   90.000000   14.195000   \n",
       "max    78.220000  78.220000  89.600000  100.000000  100.000000   33.330000   \n",
       "\n",
       "               Date  \n",
       "count  4.700000e+01  \n",
       "mean   1.607981e+09  \n",
       "std    1.784769e+02  \n",
       "min    1.607981e+09  \n",
       "25%    1.607981e+09  \n",
       "50%    1.607981e+09  \n",
       "75%    1.607981e+09  \n",
       "max    1.607981e+09  "
      ]
     },
     "execution_count": 248,
     "metadata": {},
     "output_type": "execute_result"
    }
   ],
   "source": [
    "cleaned_weather_df = weather_df.drop(columns=[\"City\", \"Country\"]) #drop the non-numeric data from the data frame\n",
    "#convert all columns to floats so I can drop the NaN values with pandas\n",
    "cleaned_weather_df[[\"Lat\", \"Lng\", \"Max Temp\", \"Humidity\", \"Cloudiness\", \"Wind Speed\", \"Date\"]] = cleaned_weather_df[[\"Lat\", \"Lng\", \"Max Temp\", \"Humidity\", \"Cloudiness\", \"Wind Speed\", \"Date\"]].astype(float)\n",
    "cleaned_weather_df.dropna(axis=0,how='all', inplace=True)#drop all NaN items from data frame\n",
    "\n",
    "cleaned_weather_df.describe() #summarize the remaining numeric data"
   ]
  },
  {
   "cell_type": "markdown",
   "metadata": {},
   "source": [
    "## Inspect the data and remove the cities where the humidity > 100%.\n",
    "----\n",
    "Skip this step if there are no cities that have humidity > 100%. "
   ]
  },
  {
   "cell_type": "code",
   "execution_count": 249,
   "metadata": {},
   "outputs": [],
   "source": [
    "# no cities had a humidity of over 100%."
   ]
  },
  {
   "cell_type": "markdown",
   "metadata": {},
   "source": [
    "## Plotting the Data\n",
    "* Use proper labeling of the plots using plot titles (including date of analysis) and axes labels.\n",
    "* Save the plotted figures as .pngs."
   ]
  },
  {
   "cell_type": "markdown",
   "metadata": {},
   "source": [
    "## Latitude vs. Temperature Plot"
   ]
  },
  {
   "cell_type": "code",
   "execution_count": 256,
   "metadata": {
    "scrolled": true
   },
   "outputs": [
    {
     "data": {
      "image/png": "[encoded data removed]",
      "text/plain": [
       "<Figure size 432x288 with 1 Axes>"
      ]
     },
     "metadata": {
      "needs_background": "light"
     },
     "output_type": "display_data"
    }
   ],
   "source": [
    "plt.scatter(cleaned_weather_df[\"Lat\"], cleaned_weather_df[\"Max Temp\"])\n",
    "plt.title(f\"City Latitude vs. Max Temperature ({converted_Date[0]})\")\n",
    "plt.xlabel(\"Latitude\")\n",
    "plt.ylabel(\"Max Temperature (F)\")\n",
    "plt.show()"
   ]
  },
  {
   "cell_type": "markdown",
   "metadata": {},
   "source": [
    "## Latitude vs. Humidity Plot"
   ]
  },
  {
   "cell_type": "code",
   "execution_count": 257,
   "metadata": {},
   "outputs": [
    {
     "data": {
      "image/png": "[encoded data removed]",
      "text/plain": [
       "<Figure size 432x288 with 1 Axes>"
      ]
     },
     "metadata": {
      "needs_background": "light"
     },
     "output_type": "display_data"
    }
   ],
   "source": [
    "plt.scatter(cleaned_weather_df[\"Lat\"], cleaned_weather_df[\"Humidity\"])\n",
    "plt.title(f\"City Latitude vs. Humidity ({converted_Date[0]})\")\n",
    "plt.xlabel(\"Latitude\")\n",
    "plt.ylabel(\"Humidity (%)\")\n",
    "plt.show()"
   ]
  },
  {
   "cell_type": "markdown",
   "metadata": {},
   "source": [
    "## Latitude vs. Cloudiness Plot"
   ]
  },
  {
   "cell_type": "code",
   "execution_count": 258,
   "metadata": {},
   "outputs": [
    {
     "data": {
      "image/png": "[encoded data removed]",
      "text/plain": [
       "<Figure size 432x288 with 1 Axes>"
      ]
     },
     "metadata": {
      "needs_background": "light"
     },
     "output_type": "display_data"
    }
   ],
   "source": [
    "plt.scatter(cleaned_weather_df[\"Lat\"], cleaned_weather_df[\"Cloudiness\"])\n",
    "plt.title(f\"City Latitude vs. Cloudiness ({converted_Date[0]})\")\n",
    "plt.xlabel(\"Latitude\")\n",
    "plt.ylabel(\"Cloudiness (%)\")\n",
    "plt.show()"
   ]
  },
  {
   "cell_type": "markdown",
   "metadata": {},
   "source": [
    "## Latitude vs. Wind Speed Plot"
   ]
  },
  {
   "cell_type": "code",
   "execution_count": 259,
   "metadata": {},
   "outputs": [
    {
     "data": {
      "image/png": "[encoded data removed]",
      "text/plain": [
       "<Figure size 432x288 with 1 Axes>"
      ]
     },
     "metadata": {
      "needs_background": "light"
     },
     "output_type": "display_data"
    }
   ],
   "source": [
    "plt.scatter(cleaned_weather_df[\"Lat\"], cleaned_weather_df[\"Wind Speed\"])\n",
    "plt.title(f\"City Latitude vs. Wind Speed ({converted_Date[0]})\")\n",
    "plt.xlabel(\"Latitude\")\n",
    "plt.ylabel(\"Wind Speed (mph)\")\n",
    "plt.show()"
   ]
  },
  {
   "cell_type": "markdown",
   "metadata": {},
   "source": [
    "## Linear Regression"
   ]
  },
  {
   "cell_type": "code",
   "execution_count": null,
   "metadata": {},
   "outputs": [],
   "source": []
  },
  {
   "cell_type": "markdown",
   "metadata": {},
   "source": [
    "####  Northern Hemisphere - Max Temp vs. Latitude Linear Regression"
   ]
  },
  {
   "cell_type": "code",
   "execution_count": null,
   "metadata": {},
   "outputs": [],
   "source": []
  },
  {
   "cell_type": "markdown",
   "metadata": {},
   "source": [
    "####  Southern Hemisphere - Max Temp vs. Latitude Linear Regression"
   ]
  },
  {
   "cell_type": "code",
   "execution_count": null,
   "metadata": {},
   "outputs": [],
   "source": []
  },
  {
   "cell_type": "markdown",
   "metadata": {},
   "source": [
    "####  Northern Hemisphere - Humidity (%) vs. Latitude Linear Regression"
   ]
  },
  {
   "cell_type": "code",
   "execution_count": null,
   "metadata": {},
   "outputs": [],
   "source": []
  },
  {
   "cell_type": "markdown",
   "metadata": {},
   "source": [
    "####  Southern Hemisphere - Humidity (%) vs. Latitude Linear Regression"
   ]
  },
  {
   "cell_type": "code",
   "execution_count": null,
   "metadata": {},
   "outputs": [],
   "source": []
  },
  {
   "cell_type": "markdown",
   "metadata": {},
   "source": [
    "####  Northern Hemisphere - Cloudiness (%) vs. Latitude Linear Regression"
   ]
  },
  {
   "cell_type": "code",
   "execution_count": null,
   "metadata": {},
   "outputs": [],
   "source": []
  },
  {
   "cell_type": "markdown",
   "metadata": {},
   "source": [
    "####  Southern Hemisphere - Cloudiness (%) vs. Latitude Linear Regression"
   ]
  },
  {
   "cell_type": "code",
   "execution_count": null,
   "metadata": {},
   "outputs": [],
   "source": []
  },
  {
   "cell_type": "markdown",
   "metadata": {},
   "source": [
    "####  Northern Hemisphere - Wind Speed (mph) vs. Latitude Linear Regression"
   ]
  },
  {
   "cell_type": "code",
   "execution_count": null,
   "metadata": {},
   "outputs": [],
   "source": []
  },
  {
   "cell_type": "markdown",
   "metadata": {},
   "source": [
    "####  Southern Hemisphere - Wind Speed (mph) vs. Latitude Linear Regression"
   ]
  },
  {
   "cell_type": "code",
   "execution_count": null,
   "metadata": {},
   "outputs": [],
   "source": []
  },
  {
   "cell_type": "code",
   "execution_count": null,
   "metadata": {},
   "outputs": [],
   "source": []
  }
 ],
 "metadata": {
  "anaconda-cloud": {},
  "kernel_info": {
   "name": "python3"
  },
  "kernelspec": {
   "display_name": "Python 3",
   "language": "python",
   "name": "python3"
  },
  "language_info": {
   "codemirror_mode": {
    "name": "ipython",
    "version": 3
   },
   "file_extension": ".py",
   "mimetype": "text/x-python",
   "name": "python",
   "nbconvert_exporter": "python",
   "pygments_lexer": "ipython3",
   "version": "3.6.10"
  },
  "latex_envs": {
   "LaTeX_envs_menu_present": true,
   "autoclose": false,
   "autocomplete": true,
   "bibliofile": "biblio.bib",
   "cite_by": "apalike",
   "current_citInitial": 1,
   "eqLabelWithNumbers": true,
   "eqNumInitial": 1,
   "hotkeys": {
    "equation": "Ctrl-E",
    "itemize": "Ctrl-I"
   },
   "labels_anchors": false,
   "latex_user_defs": false,
   "report_style_numbering": false,
   "user_envs_cfg": false
  },
  "nteract": {
   "version": "0.12.3"
  }
 },
 "nbformat": 4,
 "nbformat_minor": 2
}
