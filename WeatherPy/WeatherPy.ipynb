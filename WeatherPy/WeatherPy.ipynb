{
 "cells": [
  {
   "cell_type": "markdown",
   "metadata": {},
   "source": [
    "# WeatherPy\n",
    "----\n",
    "\n",
    "#### Note\n",
    "* Instructions have been included for each segment. You do not have to follow them exactly, but they are included to help you think through the steps."
   ]
  },
  {
   "cell_type": "code",
   "execution_count": 59,
   "metadata": {
    "scrolled": true
   },
   "outputs": [],
   "source": [
    "# Dependencies and Setup\n",
    "import matplotlib.pyplot as plt\n",
    "import pandas as pd\n",
    "import numpy as np\n",
    "import requests\n",
    "import time\n",
    "from scipy.stats import linregress\n",
    "import os\n",
    "import csv\n",
    "\n",
    "# Import API key\n",
    "from api_keys import weather_api_key\n",
    "\n",
    "# Incorporated citipy to determine city based on latitude and longitude\n",
    "from citipy import citipy\n",
    "\n",
    "# Output File (CSV)\n",
    "output_data_file = \"output_data/cities.csv\"\n",
    "\n",
    "# Range of latitudes and longitudes\n",
    "lat_range = (-90, 90)\n",
    "lng_range = (-180, 180)"
   ]
  },
  {
   "cell_type": "markdown",
   "metadata": {},
   "source": [
    "## Generate Cities List"
   ]
  },
  {
   "cell_type": "code",
   "execution_count": 60,
   "metadata": {},
   "outputs": [
    {
     "data": {
      "text/plain": [
       "604"
      ]
     },
     "execution_count": 60,
     "metadata": {},
     "output_type": "execute_result"
    }
   ],
   "source": [
    "# List for holding lat_lngs and cities\n",
    "lat_lngs = []\n",
    "cities = []\n",
    "\n",
    "# Create a set of random lat and lng combinations\n",
    "lats = np.random.uniform(lat_range[0], lat_range[1], size=1500)\n",
    "lngs = np.random.uniform(lng_range[0], lng_range[1], size=1500)\n",
    "lat_lngs = zip(lats, lngs)\n",
    "\n",
    "# Identify nearest city for each lat, lng combination\n",
    "for lat_lng in lat_lngs:\n",
    "    city = citipy.nearest_city(lat_lng[0], lat_lng[1]).city_name\n",
    "    \n",
    "    # If the city is unique, then add it to a our cities list\n",
    "    if city not in cities:\n",
    "        cities.append(city)\n",
    "\n",
    "# Print the city count to confirm sufficient count\n",
    "len(cities)"
   ]
  },
  {
   "cell_type": "markdown",
   "metadata": {},
   "source": [
    "### Perform API Calls\n",
    "* Perform a weather check on each city using a series of successive API calls.\n",
    "* Include a print log of each city as it's being processed (with the city number and city name).\n"
   ]
  },
  {
   "cell_type": "code",
   "execution_count": 61,
   "metadata": {
    "scrolled": true
   },
   "outputs": [
    {
     "name": "stdout",
     "output_type": "stream",
     "text": [
      "Beginning Data Retrieval\n",
      "-----------------------------\n",
      "Starting batch 1 of 13.\n",
      "Request 1 of batch 1. City number: 1 City name: Hermanus.\n",
      "Request 2 of batch 1. City number: 2 City name: Asău.\n",
      "Request 3 of batch 1. City number: 3 City name: Kapuskasing.\n",
      "Request 4 of batch 1. City number: 4 City name: Castro.\n",
      "Request 5 of batch 1. City number: 5 City name: Bereket.\n",
      "Request 6 of batch 1. City number: 6 City name: Ponta do Sol.\n",
      "Request 7 of batch 1. City number: 7 City name: Yoshida-kasugachō.\n",
      "Request 8 of batch 1. City number: 8 City name: Nanortalik.\n",
      "Request 9 of batch 1. City number: 9 City name: Cidreira.\n",
      "Request 10 of batch 1. City number: 10 City name: George Town.\n",
      "City not found. Skipping...\n",
      "Request 12 of batch 1. City number: 12 City name: Lüderitz.\n",
      "Request 13 of batch 1. City number: 13 City name: Pishin.\n",
      "Request 14 of batch 1. City number: 14 City name: Avarua.\n",
      "Request 15 of batch 1. City number: 15 City name: Rikitea.\n",
      "Request 16 of batch 1. City number: 16 City name: Vao.\n",
      "Request 17 of batch 1. City number: 17 City name: Ushuaia.\n",
      "Request 18 of batch 1. City number: 18 City name: Hithadhoo.\n",
      "Request 19 of batch 1. City number: 19 City name: Zhezkazgan.\n",
      "Request 20 of batch 1. City number: 20 City name: Tuatapere.\n",
      "Request 21 of batch 1. City number: 21 City name: Lebedinyy.\n",
      "Request 22 of batch 1. City number: 22 City name: Chokurdakh.\n",
      "Request 23 of batch 1. City number: 23 City name: Roswell.\n",
      "Request 24 of batch 1. City number: 24 City name: Huallanca.\n",
      "Request 25 of batch 1. City number: 25 City name: Albany.\n",
      "City not found. Skipping...\n",
      "City not found. Skipping...\n",
      "Request 28 of batch 1. City number: 28 City name: Kysyl-Syr.\n",
      "Request 29 of batch 1. City number: 29 City name: Mataura.\n",
      "Request 30 of batch 1. City number: 30 City name: Broken Hill.\n",
      "Request 31 of batch 1. City number: 31 City name: Byron Bay.\n",
      "Request 32 of batch 1. City number: 32 City name: Port Lincoln.\n",
      "Request 33 of batch 1. City number: 33 City name: Ostrovnoy.\n",
      "Request 34 of batch 1. City number: 34 City name: Busselton.\n",
      "Request 35 of batch 1. City number: 35 City name: Anadyr.\n",
      "Request 36 of batch 1. City number: 36 City name: Kaitangata.\n",
      "Request 37 of batch 1. City number: 37 City name: Lata.\n",
      "Request 38 of batch 1. City number: 38 City name: Conde.\n",
      "Request 39 of batch 1. City number: 39 City name: Batemans Bay.\n",
      "Request 40 of batch 1. City number: 40 City name: Chickasha.\n",
      "Request 41 of batch 1. City number: 41 City name: Arraial do Cabo.\n",
      "Request 42 of batch 1. City number: 42 City name: Esperance.\n",
      "Request 43 of batch 1. City number: 43 City name: Avera.\n",
      "Request 44 of batch 1. City number: 44 City name: Bluff.\n",
      "Request 45 of batch 1. City number: 45 City name: Pontes e Lacerda.\n",
      "City not found. Skipping...\n",
      "Request 47 of batch 1. City number: 47 City name: Paita.\n",
      "Request 48 of batch 1. City number: 48 City name: Soe.\n",
      "Request 49 of batch 1. City number: 49 City name: Nikolskoye.\n",
      "Request 50 of batch 1. City number: 50 City name: Adrar.\n",
      "-----------------------------\n",
      "Data Retrieval Complete\n",
      "----------------------------\n"
     ]
    }
   ],
   "source": [
    "api = weather_api_key\n",
    "# Build query URL\n",
    "url = \"http://api.openweathermap.org/data/2.5/weather?\"\n",
    "\n",
    "def APIRequest(cityNumber):#function for making the API call to OpenWeatherMap.org and returning the data\n",
    "    query_url = url + \"appid=\" + api + \"&q=\" + cities[cityNumber-1]\n",
    "    responseJson = requests.get(query_url).json() #making the API request and grabbing the JSON from the response\n",
    "\n",
    "    if (\"'message': 'city not found'\" in str(responseJson)): #checking response JSON for the string of text containing the message 'city not found'\n",
    "        full_City_Data.append(\" \")#if the city is not found, append a null value to the lists to keep the index numbers correct\n",
    "        city_City_Data.append(\" \")#list for city names\n",
    "        lat_City_Data.append(\" \")#list for city latitude\n",
    "        lng_City_Data.append(\" \")#list for city longitude\n",
    "        max_Temp_City_Data.append(\" \")#list for city maximum temperature\n",
    "        humidity_City_Data.append(\" \")#list for city humidity\n",
    "        cloudiness_City_Data.append(\" \")#list for city cloudiness amount\n",
    "        wind_Speed_City_Data.append(\" \")#list for city wind speed amount\n",
    "        country_City_Data.append(\" \")#list for which country a city is in\n",
    "        date_City_Data.append(\" \")#list for the datetime information stored in unix UTC format\n",
    "        print(\"City not found. Skipping...\")\n",
    "    else:\n",
    "        full_City_Data.append(responseJson) #if the city is found, do append the information to the lists\n",
    "        city_City_Data.append(responseJson[\"name\"])\n",
    "        lat_City_Data.append(responseJson[\"coord\"][\"lat\"])\n",
    "        lng_City_Data.append(responseJson[\"coord\"][\"lat\"])\n",
    "        max_Temp_City_Data.append(responseJson[\"main\"][\"temp_max\"])\n",
    "        humidity_City_Data.append(responseJson[\"main\"][\"humidity\"])\n",
    "        cloudiness_City_Data.append(responseJson[\"clouds\"][\"all\"])\n",
    "        wind_Speed_City_Data.append(responseJson[\"wind\"][\"speed\"])\n",
    "        country_City_Data.append(responseJson[\"sys\"][\"country\"])\n",
    "        date_City_Data.append(responseJson[\"dt\"])\n",
    "\n",
    "#if length of cities is exactly divisible by 50 then get the length. else we need to add an extra batch to account for the remainder\n",
    "remainder = 0\n",
    "if (len(cities) % 50 == 0):\n",
    "        totalBatches = int(len(cities) / 50) #doing batches of 50 API calls at once; finding the total number of batches I will be making\n",
    "else:\n",
    "    totalBatches = int((len(cities) / 50)+1)\n",
    "    remainder = int(len(cities) % 50)\n",
    "    \n",
    "batchCounter = 1\n",
    "requestsPerBatch = 50\n",
    "requestCounter = 1\n",
    "cityNumber = 1\n",
    "#creating empty lists to use to append each piece of the weather data response to\n",
    "full_City_Data, city_City_Data, lat_City_Data, lng_City_Data, max_Temp_City_Data, humidity_City_Data, cloudiness_City_Data, wind_Speed_City_Data, country_City_Data, date_City_Data = [], [], [], [], [], [], [], [], [], []\n",
    "\n",
    "print(\"Beginning Data Retrieval\\n-----------------------------\")\n",
    "while (batchCounter <= totalBatches): \n",
    "    print(f\"Starting batch {batchCounter} of {totalBatches}.\")\n",
    "    while ((batchCounter != totalBatches) & (requestCounter <= requestsPerBatch)): #if we're not on the final batch, run this code\n",
    "        cityNumber = (50 * (batchCounter-1)) + requestCounter #calculating city number        \n",
    "        APIRequest(cityNumber)\n",
    "        if (city_City_Data[cityNumber-1] != \" \"):#if any of lists at this element are blank, skip printing the name and move onto the next city\n",
    "            print(f\"Request {requestCounter} of batch {batchCounter}. City number: {cityNumber} City name: {city_City_Data[cityNumber-1]}.\")\n",
    "        requestCounter +=1\n",
    "    while ((batchCounter == totalBatches) & (requestCounter <= remainder)): #if we are on the final batch, run this code\n",
    "        cityNumber = (50 * (batchCounter-1)) + requestCounter #calculating city number\n",
    "        APIRequest(cityNumber)\n",
    "        if (city_City_Data[cityNumber-1] != \" \"):#if any of lists at this element are blank, skip printing the name and move onto the next city\n",
    "            print(f\"Request {requestCounter} of batch {batchCounter}. City number: {cityNumber} City name: {city_City_Data[cityNumber-1]}.\")\n",
    "        requestCounter +=1        \n",
    "    batchCounter +=1\n",
    "    requestCounter = 1 #resetting requestCounter so it will hit the inner while loop again in the next iteration of the outer while loop\n",
    "    \n",
    "    break ##break out of out while loop so i don't make so many API calls during testing##\n",
    "print(\"-----------------------------\\nData Retrieval Complete\\n----------------------------\") "
   ]
  },
  {
   "cell_type": "markdown",
   "metadata": {},
   "source": [
    "### Convert Raw Data to DataFrame\n",
    "* Export the city data into a .csv.\n",
    "* Display the DataFrame"
   ]
  },
  {
   "cell_type": "code",
   "execution_count": 62,
   "metadata": {},
   "outputs": [],
   "source": [
    "#print(full_City_Data)\n",
    "\n",
    "#df = pd.DataFrame()\n",
    "\n",
    "\n",
    "#output_path = os.path.join(\"Output\", \"output.csv\")\n",
    "#with open(output_path, 'w', newline='') as csvfile:\n",
    "    #csvwriter = csv.writer(csvfile)\n",
    "    #csvwriter.writerow() #i will need to look at later parts of this assignment to see \n",
    "    #which items i need from the JSON (humidity, temp, etc) and then those are the columns i can add to my CSV"
   ]
  },
  {
   "cell_type": "code",
   "execution_count": null,
   "metadata": {},
   "outputs": [],
   "source": []
  },
  {
   "cell_type": "markdown",
   "metadata": {},
   "source": [
    "## Inspect the data and remove the cities where the humidity > 100%.\n",
    "----\n",
    "Skip this step if there are no cities that have humidity > 100%. "
   ]
  },
  {
   "cell_type": "code",
   "execution_count": null,
   "metadata": {},
   "outputs": [],
   "source": []
  },
  {
   "cell_type": "code",
   "execution_count": 63,
   "metadata": {},
   "outputs": [],
   "source": [
    "#  Get the indices of cities that have humidity over 100%.\n"
   ]
  },
  {
   "cell_type": "code",
   "execution_count": 64,
   "metadata": {},
   "outputs": [],
   "source": [
    "# Make a new DataFrame equal to the city data to drop all humidity outliers by index.\n",
    "# Passing \"inplace=False\" will make a copy of the city_data DataFrame, which we call \"clean_city_data\".\n"
   ]
  },
  {
   "cell_type": "code",
   "execution_count": null,
   "metadata": {},
   "outputs": [],
   "source": [
    "\n"
   ]
  },
  {
   "cell_type": "markdown",
   "metadata": {},
   "source": [
    "## Plotting the Data\n",
    "* Use proper labeling of the plots using plot titles (including date of analysis) and axes labels.\n",
    "* Save the plotted figures as .pngs."
   ]
  },
  {
   "cell_type": "markdown",
   "metadata": {},
   "source": [
    "## Latitude vs. Temperature Plot"
   ]
  },
  {
   "cell_type": "code",
   "execution_count": null,
   "metadata": {
    "scrolled": true
   },
   "outputs": [],
   "source": []
  },
  {
   "cell_type": "markdown",
   "metadata": {},
   "source": [
    "## Latitude vs. Humidity Plot"
   ]
  },
  {
   "cell_type": "code",
   "execution_count": null,
   "metadata": {},
   "outputs": [],
   "source": []
  },
  {
   "cell_type": "markdown",
   "metadata": {},
   "source": [
    "## Latitude vs. Cloudiness Plot"
   ]
  },
  {
   "cell_type": "code",
   "execution_count": null,
   "metadata": {},
   "outputs": [],
   "source": []
  },
  {
   "cell_type": "markdown",
   "metadata": {},
   "source": [
    "## Latitude vs. Wind Speed Plot"
   ]
  },
  {
   "cell_type": "code",
   "execution_count": null,
   "metadata": {},
   "outputs": [],
   "source": []
  },
  {
   "cell_type": "markdown",
   "metadata": {},
   "source": [
    "## Linear Regression"
   ]
  },
  {
   "cell_type": "code",
   "execution_count": null,
   "metadata": {},
   "outputs": [],
   "source": []
  },
  {
   "cell_type": "markdown",
   "metadata": {},
   "source": [
    "####  Northern Hemisphere - Max Temp vs. Latitude Linear Regression"
   ]
  },
  {
   "cell_type": "code",
   "execution_count": null,
   "metadata": {},
   "outputs": [],
   "source": []
  },
  {
   "cell_type": "markdown",
   "metadata": {},
   "source": [
    "####  Southern Hemisphere - Max Temp vs. Latitude Linear Regression"
   ]
  },
  {
   "cell_type": "code",
   "execution_count": null,
   "metadata": {},
   "outputs": [],
   "source": []
  },
  {
   "cell_type": "markdown",
   "metadata": {},
   "source": [
    "####  Northern Hemisphere - Humidity (%) vs. Latitude Linear Regression"
   ]
  },
  {
   "cell_type": "code",
   "execution_count": null,
   "metadata": {},
   "outputs": [],
   "source": []
  },
  {
   "cell_type": "markdown",
   "metadata": {},
   "source": [
    "####  Southern Hemisphere - Humidity (%) vs. Latitude Linear Regression"
   ]
  },
  {
   "cell_type": "code",
   "execution_count": null,
   "metadata": {},
   "outputs": [],
   "source": []
  },
  {
   "cell_type": "markdown",
   "metadata": {},
   "source": [
    "####  Northern Hemisphere - Cloudiness (%) vs. Latitude Linear Regression"
   ]
  },
  {
   "cell_type": "code",
   "execution_count": null,
   "metadata": {},
   "outputs": [],
   "source": []
  },
  {
   "cell_type": "markdown",
   "metadata": {},
   "source": [
    "####  Southern Hemisphere - Cloudiness (%) vs. Latitude Linear Regression"
   ]
  },
  {
   "cell_type": "code",
   "execution_count": null,
   "metadata": {},
   "outputs": [],
   "source": []
  },
  {
   "cell_type": "markdown",
   "metadata": {},
   "source": [
    "####  Northern Hemisphere - Wind Speed (mph) vs. Latitude Linear Regression"
   ]
  },
  {
   "cell_type": "code",
   "execution_count": null,
   "metadata": {},
   "outputs": [],
   "source": []
  },
  {
   "cell_type": "markdown",
   "metadata": {},
   "source": [
    "####  Southern Hemisphere - Wind Speed (mph) vs. Latitude Linear Regression"
   ]
  },
  {
   "cell_type": "code",
   "execution_count": null,
   "metadata": {},
   "outputs": [],
   "source": []
  },
  {
   "cell_type": "code",
   "execution_count": null,
   "metadata": {},
   "outputs": [],
   "source": []
  }
 ],
 "metadata": {
  "anaconda-cloud": {},
  "kernel_info": {
   "name": "python3"
  },
  "kernelspec": {
   "display_name": "Python 3",
   "language": "python",
   "name": "python3"
  },
  "language_info": {
   "codemirror_mode": {
    "name": "ipython",
    "version": 3
   },
   "file_extension": ".py",
   "mimetype": "text/x-python",
   "name": "python",
   "nbconvert_exporter": "python",
   "pygments_lexer": "ipython3",
   "version": "3.6.10"
  },
  "latex_envs": {
   "LaTeX_envs_menu_present": true,
   "autoclose": false,
   "autocomplete": true,
   "bibliofile": "biblio.bib",
   "cite_by": "apalike",
   "current_citInitial": 1,
   "eqLabelWithNumbers": true,
   "eqNumInitial": 1,
   "hotkeys": {
    "equation": "Ctrl-E",
    "itemize": "Ctrl-I"
   },
   "labels_anchors": false,
   "latex_user_defs": false,
   "report_style_numbering": false,
   "user_envs_cfg": false
  },
  "nteract": {
   "version": "0.12.3"
  }
 },
 "nbformat": 4,
 "nbformat_minor": 2
}
