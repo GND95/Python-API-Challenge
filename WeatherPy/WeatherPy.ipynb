{
 "cells": [
  {
   "cell_type": "markdown",
   "metadata": {},
   "source": [
    "# WeatherPy\n",
    "----\n",
    "\n",
    "#### Note\n",
    "* Instructions have been included for each segment. You do not have to follow them exactly, but they are included to help you think through the steps."
   ]
  },
  {
   "cell_type": "code",
   "execution_count": 166,
   "metadata": {
    "scrolled": true
   },
   "outputs": [],
   "source": [
    "# Dependencies and Setup\n",
    "import matplotlib.pyplot as plt\n",
    "import pandas as pd\n",
    "import numpy as np\n",
    "import requests\n",
    "import time\n",
    "from scipy.stats import linregress\n",
    "import os\n",
    "import csv\n",
    "from datetime import datetime #for converting Unix UTC datetime to human-readable date\n",
    "\n",
    "# Import API key\n",
    "from api_keys import weather_api_key\n",
    "\n",
    "# Incorporated citipy to determine city based on latitude and longitude\n",
    "from citipy import citipy\n",
    "\n",
    "# Output File (CSV)\n",
    "output_data_file = \"output_data/cities.csv\"\n",
    "\n",
    "# Range of latitudes and longitudes\n",
    "lat_range = (-90, 90)\n",
    "lng_range = (-180, 180)"
   ]
  },
  {
   "cell_type": "markdown",
   "metadata": {},
   "source": [
    "## Generate Cities List"
   ]
  },
  {
   "cell_type": "code",
   "execution_count": 167,
   "metadata": {},
   "outputs": [
    {
     "data": {
      "text/plain": [
       "616"
      ]
     },
     "execution_count": 167,
     "metadata": {},
     "output_type": "execute_result"
    }
   ],
   "source": [
    "# List for holding lat_lngs and cities\n",
    "lat_lngs = []\n",
    "cities = []\n",
    "\n",
    "# Create a set of random lat and lng combinations\n",
    "lats = np.random.uniform(lat_range[0], lat_range[1], size=1500)\n",
    "lngs = np.random.uniform(lng_range[0], lng_range[1], size=1500)\n",
    "lat_lngs = zip(lats, lngs)\n",
    "\n",
    "# Identify nearest city for each lat, lng combination\n",
    "for lat_lng in lat_lngs:\n",
    "    city = citipy.nearest_city(lat_lng[0], lat_lng[1]).city_name\n",
    "    \n",
    "    # If the city is unique, then add it to a our cities list\n",
    "    if city not in cities:\n",
    "        cities.append(city)\n",
    "\n",
    "# Print the city count to confirm sufficient count\n",
    "len(cities)"
   ]
  },
  {
   "cell_type": "markdown",
   "metadata": {},
   "source": [
    "### Perform API Calls\n",
    "* Perform a weather check on each city using a series of successive API calls.\n",
    "* Include a print log of each city as it's being processed (with the city number and city name).\n"
   ]
  },
  {
   "cell_type": "code",
   "execution_count": 168,
   "metadata": {
    "scrolled": true
   },
   "outputs": [
    {
     "name": "stdout",
     "output_type": "stream",
     "text": [
      "Beginning Data Retrieval\n",
      "-----------------------------\n",
      "Starting batch 1 of 13.\n",
      "City not found. Skipping...\n",
      "Request 2 of batch 1. City number: 2 City name: Bredasdorp.\n",
      "Request 3 of batch 1. City number: 3 City name: Ushuaia.\n",
      "Request 4 of batch 1. City number: 4 City name: Ojinaga.\n",
      "Request 5 of batch 1. City number: 5 City name: Stokmarknes.\n",
      "Request 6 of batch 1. City number: 6 City name: Chokurdakh.\n",
      "Request 7 of batch 1. City number: 7 City name: Albany.\n",
      "Request 8 of batch 1. City number: 8 City name: Naze.\n",
      "Request 9 of batch 1. City number: 9 City name: Gambiran.\n",
      "Request 10 of batch 1. City number: 10 City name: Saint-Philippe.\n",
      "Request 11 of batch 1. City number: 11 City name: Lamu.\n",
      "Request 12 of batch 1. City number: 12 City name: Rikitea.\n",
      "Request 13 of batch 1. City number: 13 City name: Carnarvon.\n",
      "Request 14 of batch 1. City number: 14 City name: Atuona.\n",
      "Request 15 of batch 1. City number: 15 City name: Caucaia.\n",
      "Request 16 of batch 1. City number: 16 City name: Port Alfred.\n",
      "Request 17 of batch 1. City number: 17 City name: Novosheshminsk.\n",
      "Request 18 of batch 1. City number: 18 City name: Cape Town.\n",
      "Request 19 of batch 1. City number: 19 City name: Jamestown.\n",
      "Request 20 of batch 1. City number: 20 City name: Vardø.\n",
      "Request 21 of batch 1. City number: 21 City name: New Norfolk.\n",
      "Request 22 of batch 1. City number: 22 City name: Huarmey.\n",
      "Request 23 of batch 1. City number: 23 City name: Punta Arenas.\n",
      "Request 24 of batch 1. City number: 24 City name: Nouadhibou.\n",
      "Request 25 of batch 1. City number: 25 City name: Isangel.\n",
      "City not found. Skipping...\n",
      "Request 27 of batch 1. City number: 27 City name: Souillac.\n",
      "Request 28 of batch 1. City number: 28 City name: Cristóbal Obregón.\n",
      "Request 29 of batch 1. City number: 29 City name: Kedrovyy.\n",
      "Request 30 of batch 1. City number: 30 City name: Butaritari.\n",
      "Request 31 of batch 1. City number: 31 City name: Saint-Joseph.\n",
      "Request 32 of batch 1. City number: 32 City name: Mâncio Lima.\n",
      "Request 33 of batch 1. City number: 33 City name: Aykhal.\n",
      "Request 34 of batch 1. City number: 34 City name: Bluff.\n",
      "Request 35 of batch 1. City number: 35 City name: Yar-Sale.\n",
      "Request 36 of batch 1. City number: 36 City name: Evensk.\n",
      "Request 37 of batch 1. City number: 37 City name: Dovers.\n",
      "Request 38 of batch 1. City number: 38 City name: Nemuro.\n",
      "Request 39 of batch 1. City number: 39 City name: Tuktoyaktuk.\n",
      "Request 40 of batch 1. City number: 40 City name: Lebu.\n",
      "Request 41 of batch 1. City number: 41 City name: Taoudenni.\n",
      "Request 42 of batch 1. City number: 42 City name: Faanui.\n",
      "Request 43 of batch 1. City number: 43 City name: Barrow.\n",
      "Request 44 of batch 1. City number: 44 City name: Cumbum.\n",
      "Request 45 of batch 1. City number: 45 City name: Bengkulu.\n",
      "Request 46 of batch 1. City number: 46 City name: Pisco.\n",
      "Request 47 of batch 1. City number: 47 City name: Khatanga.\n",
      "Request 48 of batch 1. City number: 48 City name: Geraldton.\n",
      "Request 49 of batch 1. City number: 49 City name: Petropavlovsk-Kamchatskiy.\n",
      "Request 50 of batch 1. City number: 50 City name: Liverpool.\n",
      "-----------------------------\n",
      "Data Retrieval Complete\n",
      "----------------------------\n"
     ]
    }
   ],
   "source": [
    "api = weather_api_key\n",
    "# Build query URL\n",
    "url = \"http://api.openweathermap.org/data/2.5/weather?\"\n",
    "\n",
    "def APIRequest(cityNumber):#function for making the API call to OpenWeatherMap.org and returning the data\n",
    "    query_url = url + \"appid=\" + api + \"&q=\" + cities[cityNumber-1] + \"&units=imperial\"\n",
    "    responseJson = requests.get(query_url).json() #making the API request and grabbing the JSON from the response\n",
    "\n",
    "    if (\"'message': 'city not found'\" in str(responseJson)): #checking response JSON for the string of text containing the message 'city not found'\n",
    "        full_City_Data.append(\"NaN\")#if the city is not found, append a NaN value (makes dropping items with pandas easier later) to the lists to keep the index numbers correct\n",
    "        city_City_Data.append(\"NaN\")#list for city names\n",
    "        lat_City_Data.append(\"NaN\")#list for city latitude\n",
    "        lng_City_Data.append(\"NaN\")#list for city longitude\n",
    "        max_Temp_City_Data.append(\"NaN\")#list for city maximum temperature\n",
    "        humidity_City_Data.append(\"NaN\")#list for city humidity\n",
    "        cloudiness_City_Data.append(\"NaN\")#list for city cloudiness amount\n",
    "        wind_Speed_City_Data.append(\"NaN\")#list for city wind speed amount\n",
    "        country_City_Data.append(\"NaN\")#list for which country a city is in\n",
    "        date_City_Data.append(\"NaN\")#list for the datetime information stored in unix UTC format\n",
    "        print(\"City not found. Skipping...\")\n",
    "    else:\n",
    "        full_City_Data.append(responseJson) #if the city is found, do append the information to the lists\n",
    "        city_City_Data.append(responseJson[\"name\"])\n",
    "        lat_City_Data.append(responseJson[\"coord\"][\"lat\"])\n",
    "        lng_City_Data.append(responseJson[\"coord\"][\"lat\"])\n",
    "        max_Temp_City_Data.append(responseJson[\"main\"][\"temp_max\"])\n",
    "        humidity_City_Data.append(responseJson[\"main\"][\"humidity\"])\n",
    "        cloudiness_City_Data.append(responseJson[\"clouds\"][\"all\"])\n",
    "        wind_Speed_City_Data.append(responseJson[\"wind\"][\"speed\"])\n",
    "        country_City_Data.append(responseJson[\"sys\"][\"country\"])\n",
    "        date_City_Data.append(responseJson[\"dt\"])\n",
    "        #convert the datetime in unix UTC format to human-readable format. I only need one not null value from this list; all API calls are made on the same date\n",
    "        converted_Date.append(datetime.utcfromtimestamp(responseJson[\"dt\"]).strftime('%m-%d-%Y')) #only in the else block to prevent null values\n",
    "\n",
    "#if length of cities is exactly divisible by 50 then get the length. else we need to add an extra batch to account for the remainder\n",
    "remainder = 0\n",
    "if (len(cities) % 50 == 0):\n",
    "        totalBatches = int(len(cities) / 50) #doing batches of 50 API calls at once; finding the total number of batches I will be making\n",
    "else:\n",
    "    totalBatches = int((len(cities) / 50)+1)\n",
    "    remainder = int(len(cities) % 50)\n",
    "    \n",
    "batchCounter = 1\n",
    "requestsPerBatch = 50\n",
    "requestCounter = 1\n",
    "cityNumber = 1\n",
    "#creating empty lists to use to append each piece of the weather data response to\n",
    "full_City_Data, city_City_Data, lat_City_Data, lng_City_Data, max_Temp_City_Data, humidity_City_Data, cloudiness_City_Data, wind_Speed_City_Data, country_City_Data, date_City_Data, converted_Date = [], [], [], [], [], [], [], [], [], [], []\n",
    "\n",
    "print(\"Beginning Data Retrieval\\n-----------------------------\")\n",
    "while (batchCounter <= totalBatches): \n",
    "    print(f\"Starting batch {batchCounter} of {totalBatches}.\")\n",
    "    while ((batchCounter != totalBatches) & (requestCounter <= requestsPerBatch)): #if we're not on the final batch, run this code\n",
    "        cityNumber = (50 * (batchCounter-1)) + requestCounter #calculating city number        \n",
    "        APIRequest(cityNumber)\n",
    "        if (city_City_Data[cityNumber-1] != \"NaN\"):#if any of lists at this element are blank, skip printing the name and move onto the next city\n",
    "            print(f\"Request {requestCounter} of batch {batchCounter}. City number: {cityNumber} City name: {city_City_Data[cityNumber-1]}.\")\n",
    "        requestCounter +=1\n",
    "    while ((batchCounter == totalBatches) & (requestCounter <= remainder)): #if we are on the final batch, run this code\n",
    "        cityNumber = (50 * (batchCounter-1)) + requestCounter #calculating city number\n",
    "        APIRequest(cityNumber)\n",
    "        if (city_City_Data[cityNumber-1] != \"NaN\"):#if any of lists at this element are blank, skip printing the name and move onto the next city\n",
    "            print(f\"Request {requestCounter} of batch {batchCounter}. City number: {cityNumber} City name: {city_City_Data[cityNumber-1]}.\")\n",
    "        requestCounter +=1        \n",
    "    batchCounter +=1\n",
    "    requestCounter = 1 #resetting requestCounter so it will hit the inner while loop again in the next iteration of the outer while loop\n",
    "    break; #break out early for making testing faster\n",
    "    \n",
    "print(\"-----------------------------\\nData Retrieval Complete\\n----------------------------\") "
   ]
  },
  {
   "cell_type": "markdown",
   "metadata": {},
   "source": [
    "### Convert Raw Data to DataFrame\n",
    "* Export the city data into a .csv.\n",
    "* Display the DataFrame"
   ]
  },
  {
   "cell_type": "code",
   "execution_count": 169,
   "metadata": {},
   "outputs": [
    {
     "data": {
      "text/html": [
       "<div>\n",
       "<style scoped>\n",
       "    .dataframe tbody tr th:only-of-type {\n",
       "        vertical-align: middle;\n",
       "    }\n",
       "\n",
       "    .dataframe tbody tr th {\n",
       "        vertical-align: top;\n",
       "    }\n",
       "\n",
       "    .dataframe thead th {\n",
       "        text-align: right;\n",
       "    }\n",
       "</style>\n",
       "<table border=\"1\" class=\"dataframe\">\n",
       "  <thead>\n",
       "    <tr style=\"text-align: right;\">\n",
       "      <th></th>\n",
       "      <th>City</th>\n",
       "      <th>Lat</th>\n",
       "      <th>Lng</th>\n",
       "      <th>Max Temp</th>\n",
       "      <th>Humidity</th>\n",
       "      <th>Cloudiness</th>\n",
       "      <th>Wind Speed</th>\n",
       "      <th>Country</th>\n",
       "      <th>Date</th>\n",
       "    </tr>\n",
       "  </thead>\n",
       "  <tbody>\n",
       "    <tr>\n",
       "      <th>0</th>\n",
       "      <td>NaN</td>\n",
       "      <td>NaN</td>\n",
       "      <td>NaN</td>\n",
       "      <td>NaN</td>\n",
       "      <td>NaN</td>\n",
       "      <td>NaN</td>\n",
       "      <td>NaN</td>\n",
       "      <td>NaN</td>\n",
       "      <td>NaN</td>\n",
       "    </tr>\n",
       "    <tr>\n",
       "      <th>1</th>\n",
       "      <td>Bredasdorp</td>\n",
       "      <td>-34.53</td>\n",
       "      <td>-34.53</td>\n",
       "      <td>71.6</td>\n",
       "      <td>56</td>\n",
       "      <td>72</td>\n",
       "      <td>12.75</td>\n",
       "      <td>ZA</td>\n",
       "      <td>1608032175</td>\n",
       "    </tr>\n",
       "    <tr>\n",
       "      <th>2</th>\n",
       "      <td>Ushuaia</td>\n",
       "      <td>-54.8</td>\n",
       "      <td>-54.8</td>\n",
       "      <td>37.4</td>\n",
       "      <td>93</td>\n",
       "      <td>90</td>\n",
       "      <td>3.36</td>\n",
       "      <td>AR</td>\n",
       "      <td>1608032586</td>\n",
       "    </tr>\n",
       "    <tr>\n",
       "      <th>3</th>\n",
       "      <td>Ojinaga</td>\n",
       "      <td>29.57</td>\n",
       "      <td>29.57</td>\n",
       "      <td>42.01</td>\n",
       "      <td>38</td>\n",
       "      <td>1</td>\n",
       "      <td>6.08</td>\n",
       "      <td>MX</td>\n",
       "      <td>1608032586</td>\n",
       "    </tr>\n",
       "    <tr>\n",
       "      <th>4</th>\n",
       "      <td>Stokmarknes</td>\n",
       "      <td>68.56</td>\n",
       "      <td>68.56</td>\n",
       "      <td>35.6</td>\n",
       "      <td>92</td>\n",
       "      <td>40</td>\n",
       "      <td>5.82</td>\n",
       "      <td>NO</td>\n",
       "      <td>1608032586</td>\n",
       "    </tr>\n",
       "  </tbody>\n",
       "</table>\n",
       "</div>"
      ],
      "text/plain": [
       "          City    Lat    Lng Max Temp Humidity Cloudiness Wind Speed Country  \\\n",
       "0          NaN    NaN    NaN      NaN      NaN        NaN        NaN     NaN   \n",
       "1   Bredasdorp -34.53 -34.53     71.6       56         72      12.75      ZA   \n",
       "2      Ushuaia  -54.8  -54.8     37.4       93         90       3.36      AR   \n",
       "3      Ojinaga  29.57  29.57    42.01       38          1       6.08      MX   \n",
       "4  Stokmarknes  68.56  68.56     35.6       92         40       5.82      NO   \n",
       "\n",
       "         Date  \n",
       "0         NaN  \n",
       "1  1608032175  \n",
       "2  1608032586  \n",
       "3  1608032586  \n",
       "4  1608032586  "
      ]
     },
     "execution_count": 169,
     "metadata": {},
     "output_type": "execute_result"
    }
   ],
   "source": [
    "#use each individual list as a column in the data frame\n",
    "weather_df = pd.DataFrame(data={\"City\": city_City_Data, \"Lat\": lat_City_Data, \"Lng\": lng_City_Data, \"Max Temp\": max_Temp_City_Data, \"Humidity\": humidity_City_Data, \"Cloudiness\": cloudiness_City_Data, \"Wind Speed\": wind_Speed_City_Data, \"Country\": country_City_Data, \"Date\": date_City_Data})\n",
    "\n",
    "output_path = os.path.join(\"Output\", \"output.csv\")\n",
    "weather_df.to_csv(output_path, sep=',',index=False)#write the data frame to a CSV\n",
    "\n",
    "weather_df.head()"
   ]
  },
  {
   "cell_type": "code",
   "execution_count": 170,
   "metadata": {},
   "outputs": [
    {
     "data": {
      "text/html": [
       "<div>\n",
       "<style scoped>\n",
       "    .dataframe tbody tr th:only-of-type {\n",
       "        vertical-align: middle;\n",
       "    }\n",
       "\n",
       "    .dataframe tbody tr th {\n",
       "        vertical-align: top;\n",
       "    }\n",
       "\n",
       "    .dataframe thead th {\n",
       "        text-align: right;\n",
       "    }\n",
       "</style>\n",
       "<table border=\"1\" class=\"dataframe\">\n",
       "  <thead>\n",
       "    <tr style=\"text-align: right;\">\n",
       "      <th></th>\n",
       "      <th>Lat</th>\n",
       "      <th>Lng</th>\n",
       "      <th>Max Temp</th>\n",
       "      <th>Humidity</th>\n",
       "      <th>Cloudiness</th>\n",
       "      <th>Wind Speed</th>\n",
       "      <th>Date</th>\n",
       "    </tr>\n",
       "  </thead>\n",
       "  <tbody>\n",
       "    <tr>\n",
       "      <th>count</th>\n",
       "      <td>48.000000</td>\n",
       "      <td>48.000000</td>\n",
       "      <td>48.000000</td>\n",
       "      <td>48.000000</td>\n",
       "      <td>48.000000</td>\n",
       "      <td>48.000000</td>\n",
       "      <td>4.800000e+01</td>\n",
       "    </tr>\n",
       "    <tr>\n",
       "      <th>mean</th>\n",
       "      <td>11.156667</td>\n",
       "      <td>11.156667</td>\n",
       "      <td>50.228542</td>\n",
       "      <td>76.895833</td>\n",
       "      <td>52.916667</td>\n",
       "      <td>11.219375</td>\n",
       "      <td>1.608033e+09</td>\n",
       "    </tr>\n",
       "    <tr>\n",
       "      <th>std</th>\n",
       "      <td>40.240601</td>\n",
       "      <td>40.240601</td>\n",
       "      <td>33.616953</td>\n",
       "      <td>16.052095</td>\n",
       "      <td>38.802738</td>\n",
       "      <td>7.690440</td>\n",
       "      <td>1.498011e+02</td>\n",
       "    </tr>\n",
       "    <tr>\n",
       "      <th>min</th>\n",
       "      <td>-54.800000</td>\n",
       "      <td>-54.800000</td>\n",
       "      <td>-29.430000</td>\n",
       "      <td>17.000000</td>\n",
       "      <td>0.000000</td>\n",
       "      <td>1.120000</td>\n",
       "      <td>1.608032e+09</td>\n",
       "    </tr>\n",
       "    <tr>\n",
       "      <th>25%</th>\n",
       "      <td>-21.362500</td>\n",
       "      <td>-21.362500</td>\n",
       "      <td>28.842500</td>\n",
       "      <td>68.000000</td>\n",
       "      <td>9.500000</td>\n",
       "      <td>4.000000</td>\n",
       "      <td>1.608033e+09</td>\n",
       "    </tr>\n",
       "    <tr>\n",
       "      <th>50%</th>\n",
       "      <td>0.400000</td>\n",
       "      <td>0.400000</td>\n",
       "      <td>65.145000</td>\n",
       "      <td>80.500000</td>\n",
       "      <td>60.500000</td>\n",
       "      <td>11.295000</td>\n",
       "      <td>1.608033e+09</td>\n",
       "    </tr>\n",
       "    <tr>\n",
       "      <th>75%</th>\n",
       "      <td>53.140000</td>\n",
       "      <td>53.140000</td>\n",
       "      <td>76.682500</td>\n",
       "      <td>86.250000</td>\n",
       "      <td>90.000000</td>\n",
       "      <td>16.462500</td>\n",
       "      <td>1.608033e+09</td>\n",
       "    </tr>\n",
       "    <tr>\n",
       "      <th>max</th>\n",
       "      <td>71.970000</td>\n",
       "      <td>71.970000</td>\n",
       "      <td>87.800000</td>\n",
       "      <td>100.000000</td>\n",
       "      <td>100.000000</td>\n",
       "      <td>34.450000</td>\n",
       "      <td>1.608033e+09</td>\n",
       "    </tr>\n",
       "  </tbody>\n",
       "</table>\n",
       "</div>"
      ],
      "text/plain": [
       "             Lat        Lng   Max Temp    Humidity  Cloudiness  Wind Speed  \\\n",
       "count  48.000000  48.000000  48.000000   48.000000   48.000000   48.000000   \n",
       "mean   11.156667  11.156667  50.228542   76.895833   52.916667   11.219375   \n",
       "std    40.240601  40.240601  33.616953   16.052095   38.802738    7.690440   \n",
       "min   -54.800000 -54.800000 -29.430000   17.000000    0.000000    1.120000   \n",
       "25%   -21.362500 -21.362500  28.842500   68.000000    9.500000    4.000000   \n",
       "50%     0.400000   0.400000  65.145000   80.500000   60.500000   11.295000   \n",
       "75%    53.140000  53.140000  76.682500   86.250000   90.000000   16.462500   \n",
       "max    71.970000  71.970000  87.800000  100.000000  100.000000   34.450000   \n",
       "\n",
       "               Date  \n",
       "count  4.800000e+01  \n",
       "mean   1.608033e+09  \n",
       "std    1.498011e+02  \n",
       "min    1.608032e+09  \n",
       "25%    1.608033e+09  \n",
       "50%    1.608033e+09  \n",
       "75%    1.608033e+09  \n",
       "max    1.608033e+09  "
      ]
     },
     "execution_count": 170,
     "metadata": {},
     "output_type": "execute_result"
    }
   ],
   "source": [
    "cleaned_weather_df = weather_df.drop(columns=[\"City\", \"Country\"]) #drop the non-numeric data from the data frame\n",
    "#convert all columns to floats so I can drop the NaN values with pandas\n",
    "cleaned_weather_df[[\"Lat\", \"Lng\", \"Max Temp\", \"Humidity\", \"Cloudiness\", \"Wind Speed\", \"Date\"]] = cleaned_weather_df[[\"Lat\", \"Lng\", \"Max Temp\", \"Humidity\", \"Cloudiness\", \"Wind Speed\", \"Date\"]].astype(float)\n",
    "cleaned_weather_df.dropna(axis=0,how='all', inplace=True)#drop all NaN items from data frame\n",
    "\n",
    "cleaned_weather_df.describe() #summarize the remaining numeric data"
   ]
  },
  {
   "cell_type": "markdown",
   "metadata": {},
   "source": [
    "## Inspect the data and remove the cities where the humidity > 100%.\n",
    "----\n",
    "Skip this step if there are no cities that have humidity > 100%. "
   ]
  },
  {
   "cell_type": "code",
   "execution_count": 171,
   "metadata": {},
   "outputs": [],
   "source": [
    "# no cities had a humidity of over 100%."
   ]
  },
  {
   "cell_type": "markdown",
   "metadata": {},
   "source": [
    "## Plotting the Data\n",
    "* Use proper labeling of the plots using plot titles (including date of analysis) and axes labels.\n",
    "* Save the plotted figures as .pngs."
   ]
  },
  {
   "cell_type": "markdown",
   "metadata": {},
   "source": [
    "## Latitude vs. Temperature Plot"
   ]
  },
  {
   "cell_type": "code",
   "execution_count": 172,
   "metadata": {
    "scrolled": true
   },
   "outputs": [
    {
     "data": {
      "image/png": "[encoded data removed]",
      "text/plain": [
       "<Figure size 432x288 with 1 Axes>"
      ]
     },
     "metadata": {
      "needs_background": "light"
     },
     "output_type": "display_data"
    }
   ],
   "source": [
    "plt.scatter(cleaned_weather_df[\"Lat\"], cleaned_weather_df[\"Max Temp\"])\n",
    "plt.title(f\"City Latitude vs. Max Temperature ({converted_Date[0]})\")\n",
    "plt.xlabel(\"Latitude\")\n",
    "plt.ylabel(\"Max Temperature (F)\")\n",
    "plt.show()"
   ]
  },
  {
   "cell_type": "markdown",
   "metadata": {},
   "source": [
    "## Latitude vs. Humidity Plot"
   ]
  },
  {
   "cell_type": "code",
   "execution_count": 173,
   "metadata": {},
   "outputs": [
    {
     "data": {
      "image/png": "[encoded data removed]",
      "text/plain": [
       "<Figure size 432x288 with 1 Axes>"
      ]
     },
     "metadata": {
      "needs_background": "light"
     },
     "output_type": "display_data"
    }
   ],
   "source": [
    "plt.scatter(cleaned_weather_df[\"Lat\"], cleaned_weather_df[\"Humidity\"])\n",
    "plt.title(f\"City Latitude vs. Humidity ({converted_Date[0]})\")\n",
    "plt.xlabel(\"Latitude\")\n",
    "plt.ylabel(\"Humidity (%)\")\n",
    "plt.show()"
   ]
  },
  {
   "cell_type": "markdown",
   "metadata": {},
   "source": [
    "## Latitude vs. Cloudiness Plot"
   ]
  },
  {
   "cell_type": "code",
   "execution_count": 174,
   "metadata": {},
   "outputs": [
    {
     "data": {
      "image/png": "[encoded data removed]",
      "text/plain": [
       "<Figure size 432x288 with 1 Axes>"
      ]
     },
     "metadata": {
      "needs_background": "light"
     },
     "output_type": "display_data"
    }
   ],
   "source": [
    "plt.scatter(cleaned_weather_df[\"Lat\"], cleaned_weather_df[\"Cloudiness\"])\n",
    "plt.title(f\"City Latitude vs. Cloudiness ({converted_Date[0]})\")\n",
    "plt.xlabel(\"Latitude\")\n",
    "plt.ylabel(\"Cloudiness (%)\")\n",
    "plt.show()"
   ]
  },
  {
   "cell_type": "markdown",
   "metadata": {},
   "source": [
    "## Latitude vs. Wind Speed Plot"
   ]
  },
  {
   "cell_type": "code",
   "execution_count": 175,
   "metadata": {},
   "outputs": [
    {
     "data": {
      "image/png": "[encoded data removed]",
      "text/plain": [
       "<Figure size 432x288 with 1 Axes>"
      ]
     },
     "metadata": {
      "needs_background": "light"
     },
     "output_type": "display_data"
    }
   ],
   "source": [
    "plt.scatter(cleaned_weather_df[\"Lat\"], cleaned_weather_df[\"Wind Speed\"])\n",
    "plt.title(f\"City Latitude vs. Wind Speed ({converted_Date[0]})\")\n",
    "plt.xlabel(\"Latitude\")\n",
    "plt.ylabel(\"Wind Speed (mph)\")\n",
    "plt.show()"
   ]
  },
  {
   "cell_type": "markdown",
   "metadata": {},
   "source": [
    "## Linear Regression"
   ]
  },
  {
   "cell_type": "markdown",
   "metadata": {},
   "source": [
    "####  Northern Hemisphere - Max Temp vs. Latitude Linear Regression"
   ]
  },
  {
   "cell_type": "code",
   "execution_count": 176,
   "metadata": {},
   "outputs": [
    {
     "data": {
      "image/png": "[encoded data removed]",
      "text/plain": [
       "<Figure size 432x288 with 1 Axes>"
      ]
     },
     "metadata": {
      "needs_background": "light"
     },
     "output_type": "display_data"
    },
    {
     "name": "stdout",
     "output_type": "stream",
     "text": [
      "The r-value is: -0.8867432639498851\n"
     ]
    }
   ],
   "source": [
    "#check to see if the latitude is greater than or equal to 0 degrees; if so, then the city must be in the northern hemisphere\n",
    "\n",
    "#make a copy of the original data frame before I drop any NaN values because if I set the second data frame equal \n",
    "#to the first (without copy) then they will point to the same object in memory and drop items from the original data frame!\n",
    "northern_hemisphere_df = cleaned_weather_df.copy()\n",
    "northern_hemisphere_df['Lat'] = northern_hemisphere_df[northern_hemisphere_df['Lat'] >= 0]\n",
    "northern_hemisphere_df.dropna(axis=0,how='any', inplace=True) #removing any of the cities that are in the southern hemisphere\n",
    "\n",
    "(slope, intercept, rvalue, pvalue, stderr) = linregress(northern_hemisphere_df[\"Lat\"], northern_hemisphere_df[\"Max Temp\"]) #extracting values for the linear regression model\n",
    "regress_values = northern_hemisphere_df[\"Lat\"] * slope + intercept\n",
    "line_eq = \"y = \" + str(round(slope,2)) + \"x + \" + str(round(intercept,2)) #storing the line equation to allow for manual calculations using formula\n",
    "\n",
    "plt.scatter(northern_hemisphere_df[\"Lat\"], northern_hemisphere_df[\"Max Temp\"]) #creating the initial scatter plot\n",
    "plt.plot(northern_hemisphere_df[\"Lat\"],regress_values,\"r-\") #plot the regression line on the chart\n",
    "plt.annotate(line_eq,(10,0),fontsize=15,color=\"red\") #add the formula the regression line is using to the chart at location (10,0) on the chart\n",
    "\n",
    "plt.title(f\"N. Hemisphere Lat vs. Max Temp ({converted_Date[0]})\")\n",
    "plt.xlabel(\"Latitude\")\n",
    "plt.ylabel(\"Max Temperature (F)\")\n",
    "plt.show()\n",
    "\n",
    "print(f\"The r-value is: {rvalue}\")"
   ]
  },
  {
   "cell_type": "markdown",
   "metadata": {},
   "source": [
    "####  Southern Hemisphere - Max Temp vs. Latitude Linear Regression"
   ]
  },
  {
   "cell_type": "code",
   "execution_count": 177,
   "metadata": {},
   "outputs": [
    {
     "data": {
      "image/png": "[encoded data removed]",
      "text/plain": [
       "<Figure size 432x288 with 1 Axes>"
      ]
     },
     "metadata": {
      "needs_background": "light"
     },
     "output_type": "display_data"
    },
    {
     "name": "stdout",
     "output_type": "stream",
     "text": [
      "The r-value is: 0.8108348891930248\n"
     ]
    }
   ],
   "source": [
    "#check to see if the latitude is less than 0 degrees; if so, then the city must be in the southern hemisphere\n",
    "\n",
    "#make a copy of the original data frame as to not modify the original data\n",
    "southern_hemisphere_df = cleaned_weather_df.copy()\n",
    "southern_hemisphere_df['Lat'] = southern_hemisphere_df[southern_hemisphere_df['Lat'] < 0]\n",
    "southern_hemisphere_df.dropna(axis=0,how='any', inplace=True) #removing any of the cities that are in the northern hemisphere\n",
    "\n",
    "(slope, intercept, rvalue, pvalue, stderr) = linregress(southern_hemisphere_df[\"Lat\"], southern_hemisphere_df[\"Max Temp\"]) #extracting values for the linear regression model\n",
    "regress_values = southern_hemisphere_df[\"Lat\"] * slope + intercept\n",
    "line_eq = \"y = \" + str(round(slope,2)) + \"x + \" + str(round(intercept,2)) #storing the line equation to allow for manual calculations using formula\n",
    "\n",
    "plt.scatter(southern_hemisphere_df[\"Lat\"], southern_hemisphere_df[\"Max Temp\"]) #creating the initial scatter plot\n",
    "plt.plot(southern_hemisphere_df[\"Lat\"],regress_values,\"r-\") #plot the regression line on the chart\n",
    "plt.annotate(line_eq,(-45,40),fontsize=15,color=\"red\") #add the formula the regression line is using to the chart at location (-45,40) on the chart\n",
    "\n",
    "plt.title(f\"S. Hemisphere Lat vs. Max Temp ({converted_Date[0]})\")\n",
    "plt.xlabel(\"Latitude\")\n",
    "plt.ylabel(\"Max Temperature (F)\")\n",
    "plt.show()\n",
    "\n",
    "print(f\"The r-value is: {rvalue}\")"
   ]
  },
  {
   "cell_type": "markdown",
   "metadata": {},
   "source": [
    "####  Northern Hemisphere - Humidity (%) vs. Latitude Linear Regression"
   ]
  },
  {
   "cell_type": "code",
   "execution_count": 179,
   "metadata": {},
   "outputs": [
    {
     "data": {
      "image/png": "[encoded data removed]",
      "text/plain": [
       "<Figure size 432x288 with 1 Axes>"
      ]
     },
     "metadata": {
      "needs_background": "light"
     },
     "output_type": "display_data"
    },
    {
     "name": "stdout",
     "output_type": "stream",
     "text": [
      "The r-value is: 0.36871035200804386\n"
     ]
    }
   ],
   "source": [
    "(slope, intercept, rvalue, pvalue, stderr) = linregress(northern_hemisphere_df[\"Lat\"], northern_hemisphere_df[\"Humidity\"]) #extracting values for the linear regression model\n",
    "regress_values = northern_hemisphere_df[\"Lat\"] * slope + intercept\n",
    "line_eq = \"y = \" + str(round(slope,2)) + \"x + \" + str(round(intercept,2)) #storing the line equation to allow for manual calculations using formula\n",
    "\n",
    "plt.scatter(northern_hemisphere_df[\"Lat\"], northern_hemisphere_df[\"Humidity\"]) #creating the initial scatter plot\n",
    "plt.plot(northern_hemisphere_df[\"Lat\"],regress_values,\"r-\") #plot the regression line on the chart\n",
    "plt.annotate(line_eq,(10,20),fontsize=15,color=\"red\") #add the formula the regression line is using to the chart at location (10,20) on the chart\n",
    "\n",
    "plt.title(f\"N. Hemisphere Lat vs. Humidity ({converted_Date[0]})\")\n",
    "plt.xlabel(\"Latitude\")\n",
    "plt.ylabel(\"Humidity (%)\")\n",
    "plt.show()\n",
    "\n",
    "print(f\"The r-value is: {rvalue}\")"
   ]
  },
  {
   "cell_type": "markdown",
   "metadata": {},
   "source": [
    "####  Southern Hemisphere - Humidity (%) vs. Latitude Linear Regression"
   ]
  },
  {
   "cell_type": "code",
   "execution_count": 181,
   "metadata": {},
   "outputs": [
    {
     "data": {
      "image/png": "[encoded data removed]",
      "text/plain": [
       "<Figure size 432x288 with 1 Axes>"
      ]
     },
     "metadata": {
      "needs_background": "light"
     },
     "output_type": "display_data"
    },
    {
     "name": "stdout",
     "output_type": "stream",
     "text": [
      "The r-value is: 0.25832450376083227\n"
     ]
    }
   ],
   "source": [
    "(slope, intercept, rvalue, pvalue, stderr) = linregress(southern_hemisphere_df[\"Lat\"], southern_hemisphere_df[\"Humidity\"]) #extracting values for the linear regression model\n",
    "regress_values = southern_hemisphere_df[\"Lat\"] * slope + intercept\n",
    "line_eq = \"y = \" + str(round(slope,2)) + \"x + \" + str(round(intercept,2)) #storing the line equation to allow for manual calculations using formula\n",
    "\n",
    "plt.scatter(southern_hemisphere_df[\"Lat\"], southern_hemisphere_df[\"Humidity\"]) #creating the initial scatter plot\n",
    "plt.plot(southern_hemisphere_df[\"Lat\"],regress_values,\"r-\") #plot the regression line on the chart\n",
    "plt.annotate(line_eq,(-45,50),fontsize=15,color=\"red\") #add the formula the regression line is using to the chart at location (-45,50) on the chart\n",
    "\n",
    "plt.title(f\"S. Hemisphere Lat vs. Humidity ({converted_Date[0]})\")\n",
    "plt.xlabel(\"Latitude\")\n",
    "plt.ylabel(\"Humidity (%)\")\n",
    "plt.show()\n",
    "\n",
    "print(f\"The r-value is: {rvalue}\")"
   ]
  },
  {
   "cell_type": "markdown",
   "metadata": {},
   "source": [
    "####  Northern Hemisphere - Cloudiness (%) vs. Latitude Linear Regression"
   ]
  },
  {
   "cell_type": "code",
   "execution_count": 183,
   "metadata": {},
   "outputs": [
    {
     "data": {
      "image/png": "[encoded data removed]",
      "text/plain": [
       "<Figure size 432x288 with 1 Axes>"
      ]
     },
     "metadata": {
      "needs_background": "light"
     },
     "output_type": "display_data"
    },
    {
     "name": "stdout",
     "output_type": "stream",
     "text": [
      "The r-value is: 0.20764887420896286\n"
     ]
    }
   ],
   "source": [
    "(slope, intercept, rvalue, pvalue, stderr) = linregress(northern_hemisphere_df[\"Lat\"], northern_hemisphere_df[\"Cloudiness\"]) #extracting values for the linear regression model\n",
    "regress_values = northern_hemisphere_df[\"Lat\"] * slope + intercept\n",
    "line_eq = \"y = \" + str(round(slope,2)) + \"x + \" + str(round(intercept,2)) #storing the line equation to allow for manual calculations using formula\n",
    "\n",
    "plt.scatter(northern_hemisphere_df[\"Lat\"], northern_hemisphere_df[\"Cloudiness\"]) #creating the initial scatter plot\n",
    "plt.plot(northern_hemisphere_df[\"Lat\"],regress_values,\"r-\") #plot the regression line on the chart\n",
    "plt.annotate(line_eq,(10,15),fontsize=15,color=\"red\") #add the formula the regression line is using to the chart at location (10,15) on the chart\n",
    "\n",
    "plt.title(f\"N. Hemisphere Lat vs. Cloudiness ({converted_Date[0]})\")\n",
    "plt.xlabel(\"Latitude\")\n",
    "plt.ylabel(\"Cloudiness (%)\")\n",
    "plt.show()\n",
    "\n",
    "print(f\"The r-value is: {rvalue}\")"
   ]
  },
  {
   "cell_type": "markdown",
   "metadata": {},
   "source": [
    "####  Southern Hemisphere - Cloudiness (%) vs. Latitude Linear Regression"
   ]
  },
  {
   "cell_type": "code",
   "execution_count": null,
   "metadata": {},
   "outputs": [],
   "source": []
  },
  {
   "cell_type": "markdown",
   "metadata": {},
   "source": [
    "####  Northern Hemisphere - Wind Speed (mph) vs. Latitude Linear Regression"
   ]
  },
  {
   "cell_type": "code",
   "execution_count": null,
   "metadata": {},
   "outputs": [],
   "source": []
  },
  {
   "cell_type": "markdown",
   "metadata": {},
   "source": [
    "####  Southern Hemisphere - Wind Speed (mph) vs. Latitude Linear Regression"
   ]
  },
  {
   "cell_type": "code",
   "execution_count": null,
   "metadata": {},
   "outputs": [],
   "source": []
  },
  {
   "cell_type": "code",
   "execution_count": null,
   "metadata": {},
   "outputs": [],
   "source": []
  }
 ],
 "metadata": {
  "anaconda-cloud": {},
  "kernel_info": {
   "name": "python3"
  },
  "kernelspec": {
   "display_name": "Python 3",
   "language": "python",
   "name": "python3"
  },
  "language_info": {
   "codemirror_mode": {
    "name": "ipython",
    "version": 3
   },
   "file_extension": ".py",
   "mimetype": "text/x-python",
   "name": "python",
   "nbconvert_exporter": "python",
   "pygments_lexer": "ipython3",
   "version": "3.6.10"
  },
  "latex_envs": {
   "LaTeX_envs_menu_present": true,
   "autoclose": false,
   "autocomplete": true,
   "bibliofile": "biblio.bib",
   "cite_by": "apalike",
   "current_citInitial": 1,
   "eqLabelWithNumbers": true,
   "eqNumInitial": 1,
   "hotkeys": {
    "equation": "Ctrl-E",
    "itemize": "Ctrl-I"
   },
   "labels_anchors": false,
   "latex_user_defs": false,
   "report_style_numbering": false,
   "user_envs_cfg": false
  },
  "nteract": {
   "version": "0.12.3"
  }
 },
 "nbformat": 4,
 "nbformat_minor": 2
}
