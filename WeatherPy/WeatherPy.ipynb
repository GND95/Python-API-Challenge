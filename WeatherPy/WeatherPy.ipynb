{
 "cells": [
  {
   "cell_type": "markdown",
   "metadata": {},
   "source": [
    "# WeatherPy\n",
    "----\n",
    "\n",
    "#### Note\n",
    "* Instructions have been included for each segment. You do not have to follow them exactly, but they are included to help you think through the steps."
   ]
  },
  {
   "cell_type": "code",
   "execution_count": 1,
   "metadata": {
    "scrolled": true
   },
   "outputs": [],
   "source": [
    "# Dependencies and Setup\n",
    "import matplotlib.pyplot as plt\n",
    "import pandas as pd\n",
    "import numpy as np\n",
    "import requests\n",
    "import time\n",
    "from scipy.stats import linregress\n",
    "\n",
    "# Import API key\n",
    "from api_keys import weather_api_key\n",
    "\n",
    "# Incorporated citipy to determine city based on latitude and longitude\n",
    "from citipy import citipy\n",
    "\n",
    "# Output File (CSV)\n",
    "output_data_file = \"output_data/cities.csv\"\n",
    "\n",
    "# Range of latitudes and longitudes\n",
    "lat_range = (-90, 90)\n",
    "lng_range = (-180, 180)"
   ]
  },
  {
   "cell_type": "markdown",
   "metadata": {},
   "source": [
    "## Generate Cities List"
   ]
  },
  {
   "cell_type": "code",
   "execution_count": 79,
   "metadata": {},
   "outputs": [
    {
     "data": {
      "text/plain": [
       "593"
      ]
     },
     "execution_count": 79,
     "metadata": {},
     "output_type": "execute_result"
    }
   ],
   "source": [
    "# List for holding lat_lngs and cities\n",
    "lat_lngs = []\n",
    "cities = []\n",
    "\n",
    "# Create a set of random lat and lng combinations\n",
    "lats = np.random.uniform(lat_range[0], lat_range[1], size=1500)\n",
    "lngs = np.random.uniform(lng_range[0], lng_range[1], size=1500)\n",
    "lat_lngs = zip(lats, lngs)\n",
    "\n",
    "# Identify nearest city for each lat, lng combination\n",
    "for lat_lng in lat_lngs:\n",
    "    city = citipy.nearest_city(lat_lng[0], lat_lng[1]).city_name\n",
    "    \n",
    "    # If the city is unique, then add it to a our cities list\n",
    "    if city not in cities:\n",
    "        cities.append(city)\n",
    "\n",
    "# Print the city count to confirm sufficient count\n",
    "len(cities)"
   ]
  },
  {
   "cell_type": "markdown",
   "metadata": {},
   "source": [
    "### Perform API Calls\n",
    "* Perform a weather check on each city using a series of successive API calls.\n",
    "* Include a print log of each city as it's being processed (with the city number and city name).\n"
   ]
  },
  {
   "cell_type": "code",
   "execution_count": 86,
   "metadata": {
    "scrolled": true
   },
   "outputs": [
    {
     "name": "stdout",
     "output_type": "stream",
     "text": [
      "Beginning Data Retrieval\n",
      "-----------------------------\n",
      "Starting batch 1 of 12.\n",
      "Request 1 of batch 1. City number: 1 City name: Rikitea.\n",
      "Request 2 of batch 1. City number: 2 City name: George Town.\n",
      "Request 3 of batch 1. City number: 3 City name: Chokurdakh.\n",
      "Request 4 of batch 1. City number: 4 City name: Faanui.\n",
      "Request 5 of batch 1. City number: 5 City name: Hailey.\n",
      "Request 6 of batch 1. City number: 6 City name: Cape Town.\n",
      "Request 7 of batch 1. City number: 7 City name: Cururupu.\n",
      "Request 8 of batch 1. City number: 8 City name: La Goulette.\n",
      "City not found. Skipping...\n",
      "City not found. Skipping...\n",
      "Request 11 of batch 1. City number: 11 City name: Petatlán.\n",
      "Request 12 of batch 1. City number: 12 City name: Port Alfred.\n",
      "Request 13 of batch 1. City number: 13 City name: Ushuaia.\n",
      "Request 14 of batch 1. City number: 14 City name: Tautira.\n",
      "Request 15 of batch 1. City number: 15 City name: Busselton.\n",
      "Request 16 of batch 1. City number: 16 City name: Nabire.\n",
      "Request 17 of batch 1. City number: 17 City name: Tuktoyaktuk.\n",
      "Request 18 of batch 1. City number: 18 City name: Ilabaya.\n",
      "Request 19 of batch 1. City number: 19 City name: Ullapool.\n",
      "Request 20 of batch 1. City number: 20 City name: Thompson.\n",
      "Request 21 of batch 1. City number: 21 City name: Yarmouth.\n",
      "Request 22 of batch 1. City number: 22 City name: Salalah.\n",
      "Request 23 of batch 1. City number: 23 City name: Punta Arenas.\n",
      "Request 24 of batch 1. City number: 24 City name: Mataura.\n",
      "Request 25 of batch 1. City number: 25 City name: Benjamin Constant.\n",
      "City not found. Skipping...\n",
      "Request 27 of batch 1. City number: 27 City name: Yellowknife.\n",
      "Request 28 of batch 1. City number: 28 City name: Tommot.\n",
      "Request 29 of batch 1. City number: 29 City name: Hobart.\n",
      "Request 30 of batch 1. City number: 30 City name: Mar del Plata.\n",
      "City not found. Skipping...\n",
      "Request 32 of batch 1. City number: 32 City name: Barrow.\n",
      "Request 33 of batch 1. City number: 33 City name: Bluff.\n",
      "Request 34 of batch 1. City number: 34 City name: Geraldton.\n",
      "Request 35 of batch 1. City number: 35 City name: Aden.\n",
      "Request 36 of batch 1. City number: 36 City name: East London.\n",
      "Request 37 of batch 1. City number: 37 City name: New Norfolk.\n",
      "Request 38 of batch 1. City number: 38 City name: Kavaratti.\n",
      "Request 39 of batch 1. City number: 39 City name: Puerto Ayora.\n",
      "Request 40 of batch 1. City number: 40 City name: La Ronge.\n",
      "Request 41 of batch 1. City number: 41 City name: Erdemli.\n",
      "Request 42 of batch 1. City number: 42 City name: Khatanga.\n",
      "Request 43 of batch 1. City number: 43 City name: Acapulco de Juárez.\n",
      "Request 44 of batch 1. City number: 44 City name: Saint-Philippe.\n",
      "Request 45 of batch 1. City number: 45 City name: Borovoy.\n",
      "Request 46 of batch 1. City number: 46 City name: Waipawa.\n",
      "Request 47 of batch 1. City number: 47 City name: Saint-Joseph.\n",
      "Request 48 of batch 1. City number: 48 City name: Bredasdorp.\n",
      "Request 49 of batch 1. City number: 49 City name: Narsaq.\n",
      "City not found. Skipping...\n",
      "-----------------------------\n",
      "Data Retrieval Complete\n",
      "----------------------------\n"
     ]
    }
   ],
   "source": [
    "api = weather_api_key\n",
    "# Build query URL\n",
    "url = \"http://api.openweathermap.org/data/2.5/weather?\"\n",
    "\n",
    "def APIRequest(cityNumber):#function for making the API call to OpenWeatherMap.org and returning the data\n",
    "    query_url = url + \"appid=\" + api + \"&q=\" + cities[cityNumber-1]\n",
    "    responseJson = requests.get(query_url).json() #making the API request and grabbing the JSON from the response\n",
    "\n",
    "    if (\"'message': 'city not found'\" in str(responseJson)): #checking response JSON for the string of text containing the message 'city not found'\n",
    "        city_data.append(\" \")#if the city is not found, append a null value to the list to keep the index numbers correct\n",
    "        print(\"City not found. Skipping...\")\n",
    "    else:\n",
    "        city_data.append(responseJson) #if the city is found, do append it to the list        \n",
    "\n",
    "#if length of cities is exactly divisible by 50 then get the length. else we need to add an extra batch to account for the remainder\n",
    "remainder = 0\n",
    "if (len(cities) % 50 == 0):\n",
    "        totalBatches = int(len(cities) / 50) #doing batches of 50 API calls at once; finding the total number of batches I will be making\n",
    "else:\n",
    "    totalBatches = int((len(cities) / 50)+1)\n",
    "    remainder = int(len(cities) % 50)\n",
    "    \n",
    "batchCounter = 1\n",
    "requestsPerBatch = 50\n",
    "requestCounter = 1\n",
    "cityNumber = 1\n",
    "city_data = [] #creating empty list for appending the response weather data to\n",
    "\n",
    "print(\"Beginning Data Retrieval\\n-----------------------------\")\n",
    "while (batchCounter <= totalBatches): \n",
    "    print(f\"Starting batch {batchCounter} of {totalBatches}.\")\n",
    "    while ((batchCounter != totalBatches) & (requestCounter <= requestsPerBatch)): #if we're not on the final batch, run this code\n",
    "        cityNumber = (50 * (batchCounter-1)) + requestCounter #calculating city number        \n",
    "        APIRequest(cityNumber)\n",
    "        try:\n",
    "            cityName = city_data[cityNumber-1][\"name\"] #get the name of the city from the JSON in the API response\n",
    "            print(f\"Request {requestCounter} of batch {batchCounter}. City number: {cityNumber} City name: {cityName}.\")\n",
    "        except TypeError:\n",
    "            pass #if the city is skipped, there will be no response to parse so catch the TypeError exception and move onto the next city\n",
    "        requestCounter +=1\n",
    "    while ((batchCounter == totalBatches) & (requestCounter <= remainder)): #if we are on the final batch, run this code\n",
    "        cityNumber = (50 * (batchCounter-1)) + requestCounter #calculating city number\n",
    "        APIRequest(cityNumber)\n",
    "        try:\n",
    "            cityName = city_data[cityNumber-1][\"name\"] #get the name of the city from the JSON in the API response\n",
    "            print(f\"Request {requestCounter} of batch {batchCounter}. City number: {cityNumber} City name: {cityName}.\")\n",
    "        except TypeError:\n",
    "            pass #if the city is skipped, there will be no response to parse so catch the TypeError exception and move onto the next city\n",
    "        requestCounter +=1        \n",
    "    batchCounter +=1\n",
    "    requestCounter = 1 #resetting requestCounter so it will hit the inner while loop again in the next iteration of the outer while loop\n",
    "    \n",
    "    break ##break out of out while loop so i don't make so many API calls during testing##\n",
    "print(\"-----------------------------\\nData Retrieval Complete\\n----------------------------\") "
   ]
  },
  {
   "cell_type": "markdown",
   "metadata": {},
   "source": [
    "### Convert Raw Data to DataFrame\n",
    "* Export the city data into a .csv.\n",
    "* Display the DataFrame"
   ]
  },
  {
   "cell_type": "code",
   "execution_count": null,
   "metadata": {},
   "outputs": [],
   "source": []
  },
  {
   "cell_type": "code",
   "execution_count": null,
   "metadata": {},
   "outputs": [],
   "source": []
  },
  {
   "cell_type": "markdown",
   "metadata": {},
   "source": [
    "## Inspect the data and remove the cities where the humidity > 100%.\n",
    "----\n",
    "Skip this step if there are no cities that have humidity > 100%. "
   ]
  },
  {
   "cell_type": "code",
   "execution_count": null,
   "metadata": {},
   "outputs": [],
   "source": []
  },
  {
   "cell_type": "code",
   "execution_count": 4,
   "metadata": {},
   "outputs": [],
   "source": [
    "#  Get the indices of cities that have humidity over 100%.\n"
   ]
  },
  {
   "cell_type": "code",
   "execution_count": 5,
   "metadata": {},
   "outputs": [],
   "source": [
    "# Make a new DataFrame equal to the city data to drop all humidity outliers by index.\n",
    "# Passing \"inplace=False\" will make a copy of the city_data DataFrame, which we call \"clean_city_data\".\n"
   ]
  },
  {
   "cell_type": "code",
   "execution_count": null,
   "metadata": {},
   "outputs": [],
   "source": [
    "\n"
   ]
  },
  {
   "cell_type": "markdown",
   "metadata": {},
   "source": [
    "## Plotting the Data\n",
    "* Use proper labeling of the plots using plot titles (including date of analysis) and axes labels.\n",
    "* Save the plotted figures as .pngs."
   ]
  },
  {
   "cell_type": "markdown",
   "metadata": {},
   "source": [
    "## Latitude vs. Temperature Plot"
   ]
  },
  {
   "cell_type": "code",
   "execution_count": null,
   "metadata": {
    "scrolled": true
   },
   "outputs": [],
   "source": []
  },
  {
   "cell_type": "markdown",
   "metadata": {},
   "source": [
    "## Latitude vs. Humidity Plot"
   ]
  },
  {
   "cell_type": "code",
   "execution_count": null,
   "metadata": {},
   "outputs": [],
   "source": []
  },
  {
   "cell_type": "markdown",
   "metadata": {},
   "source": [
    "## Latitude vs. Cloudiness Plot"
   ]
  },
  {
   "cell_type": "code",
   "execution_count": null,
   "metadata": {},
   "outputs": [],
   "source": []
  },
  {
   "cell_type": "markdown",
   "metadata": {},
   "source": [
    "## Latitude vs. Wind Speed Plot"
   ]
  },
  {
   "cell_type": "code",
   "execution_count": null,
   "metadata": {},
   "outputs": [],
   "source": []
  },
  {
   "cell_type": "markdown",
   "metadata": {},
   "source": [
    "## Linear Regression"
   ]
  },
  {
   "cell_type": "code",
   "execution_count": null,
   "metadata": {},
   "outputs": [],
   "source": []
  },
  {
   "cell_type": "markdown",
   "metadata": {},
   "source": [
    "####  Northern Hemisphere - Max Temp vs. Latitude Linear Regression"
   ]
  },
  {
   "cell_type": "code",
   "execution_count": null,
   "metadata": {},
   "outputs": [],
   "source": []
  },
  {
   "cell_type": "markdown",
   "metadata": {},
   "source": [
    "####  Southern Hemisphere - Max Temp vs. Latitude Linear Regression"
   ]
  },
  {
   "cell_type": "code",
   "execution_count": null,
   "metadata": {},
   "outputs": [],
   "source": []
  },
  {
   "cell_type": "markdown",
   "metadata": {},
   "source": [
    "####  Northern Hemisphere - Humidity (%) vs. Latitude Linear Regression"
   ]
  },
  {
   "cell_type": "code",
   "execution_count": null,
   "metadata": {},
   "outputs": [],
   "source": []
  },
  {
   "cell_type": "markdown",
   "metadata": {},
   "source": [
    "####  Southern Hemisphere - Humidity (%) vs. Latitude Linear Regression"
   ]
  },
  {
   "cell_type": "code",
   "execution_count": null,
   "metadata": {},
   "outputs": [],
   "source": []
  },
  {
   "cell_type": "markdown",
   "metadata": {},
   "source": [
    "####  Northern Hemisphere - Cloudiness (%) vs. Latitude Linear Regression"
   ]
  },
  {
   "cell_type": "code",
   "execution_count": null,
   "metadata": {},
   "outputs": [],
   "source": []
  },
  {
   "cell_type": "markdown",
   "metadata": {},
   "source": [
    "####  Southern Hemisphere - Cloudiness (%) vs. Latitude Linear Regression"
   ]
  },
  {
   "cell_type": "code",
   "execution_count": null,
   "metadata": {},
   "outputs": [],
   "source": []
  },
  {
   "cell_type": "markdown",
   "metadata": {},
   "source": [
    "####  Northern Hemisphere - Wind Speed (mph) vs. Latitude Linear Regression"
   ]
  },
  {
   "cell_type": "code",
   "execution_count": null,
   "metadata": {},
   "outputs": [],
   "source": []
  },
  {
   "cell_type": "markdown",
   "metadata": {},
   "source": [
    "####  Southern Hemisphere - Wind Speed (mph) vs. Latitude Linear Regression"
   ]
  },
  {
   "cell_type": "code",
   "execution_count": null,
   "metadata": {},
   "outputs": [],
   "source": []
  },
  {
   "cell_type": "code",
   "execution_count": null,
   "metadata": {},
   "outputs": [],
   "source": []
  }
 ],
 "metadata": {
  "anaconda-cloud": {},
  "kernel_info": {
   "name": "python3"
  },
  "kernelspec": {
   "display_name": "Python 3",
   "language": "python",
   "name": "python3"
  },
  "language_info": {
   "codemirror_mode": {
    "name": "ipython",
    "version": 3
   },
   "file_extension": ".py",
   "mimetype": "text/x-python",
   "name": "python",
   "nbconvert_exporter": "python",
   "pygments_lexer": "ipython3",
   "version": "3.6.10"
  },
  "latex_envs": {
   "LaTeX_envs_menu_present": true,
   "autoclose": false,
   "autocomplete": true,
   "bibliofile": "biblio.bib",
   "cite_by": "apalike",
   "current_citInitial": 1,
   "eqLabelWithNumbers": true,
   "eqNumInitial": 1,
   "hotkeys": {
    "equation": "Ctrl-E",
    "itemize": "Ctrl-I"
   },
   "labels_anchors": false,
   "latex_user_defs": false,
   "report_style_numbering": false,
   "user_envs_cfg": false
  },
  "nteract": {
   "version": "0.12.3"
  }
 },
 "nbformat": 4,
 "nbformat_minor": 2
}
